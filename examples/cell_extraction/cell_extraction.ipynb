{
 "cells": [
  {
   "cell_type": "markdown",
   "id": "d581a677",
   "metadata": {},
   "source": [
    "<details>\n",
    "  <summary>Dependencies</summary>\n",
    "/// script\n",
    "requires-python = \">=3.10\"\n",
    "dependencies = [\n",
    "    \"a2c-ase @ git+https://github.com/abhijeetgangan/a2c_ase.git\",\n",
    "    \"numpy\",\n",
    "    \"pymatgen\",\n",
    "    \"tqdm\",\n",
    "    \"mace-torch\",\n",
    "    \"matplotlib\",\n",
    "]\n",
    "///\n",
    "</details>"
   ]
  },
  {
   "cell_type": "markdown",
   "id": "f2683a2c",
   "metadata": {},
   "source": [
    "Sodium Crystallization from Amorphous Phase - Cell Extraction Example\n",
    "\n",
    "This example demonstrates how to extract crystallizable subcells from an amorphous\n",
    "sodium structure, relax them using the MACE machine learning potential, and analyze\n",
    "the resulting space group distribution. This is a simplified workflow that focuses on\n",
    "the cell extraction and analysis steps without running the full melt-quench MD simulation."
   ]
  },
  {
   "cell_type": "markdown",
   "id": "837c83f8",
   "metadata": {},
   "source": [
    "## Setup and Imports\n",
    "\n",
    "We'll use MACE for accurate energy and force calculations, pymatgen for space group\n",
    "analysis, and matplotlib for visualization."
   ]
  },
  {
   "cell_type": "code",
   "execution_count": 1,
   "id": "333aabbe",
   "metadata": {
    "execution": {
     "iopub.execute_input": "2025-10-15T06:44:56.918801Z",
     "iopub.status.busy": "2025-10-15T06:44:56.918514Z",
     "iopub.status.idle": "2025-10-15T06:45:00.404852Z",
     "shell.execute_reply": "2025-10-15T06:45:00.404108Z"
    }
   },
   "outputs": [
    {
     "name": "stderr",
     "output_type": "stream",
     "text": [
      "/opt/hostedtoolcache/Python/3.10.18/x64/lib/python3.10/site-packages/e3nn/o3/_wigner.py:10: UserWarning: Environment variable TORCH_FORCE_NO_WEIGHTS_ONLY_LOAD detected, since the`weights_only` argument was not explicitly passed to `torch.load`, forcing weights_only=False.\n",
      "  _Jd, _W3j_flat, _W3j_indices = torch.load(os.path.join(os.path.dirname(__file__), 'constants.pt'))\n"
     ]
    },
    {
     "name": "stdout",
     "output_type": "stream",
     "text": [
      "cuequivariance or cuequivariance_torch is not available. Cuequivariance acceleration will be disabled.\n"
     ]
    }
   ],
   "source": [
    "import os\n",
    "from collections import Counter\n",
    "from pathlib import Path\n",
    "\n",
    "import matplotlib\n",
    "import matplotlib.pyplot as plt\n",
    "from ase.io import read\n",
    "from mace.calculators.foundations_models import mace_mp  # type: ignore\n",
    "from pymatgen.io.ase import AseAtomsAdaptor\n",
    "from pymatgen.symmetry.analyzer import SpacegroupAnalyzer\n",
    "from tqdm import tqdm\n",
    "\n",
    "from a2c_ase.runner import relax_unit_cell\n",
    "from a2c_ase.utils import extract_crystallizable_subcells\n",
    "\n",
    "# Set matplotlib backend for CI\n",
    "if os.getenv(\"CI\") is not None:\n",
    "    matplotlib.use(\"Agg\")"
   ]
  },
  {
   "cell_type": "markdown",
   "id": "b63db38c",
   "metadata": {},
   "source": [
    "## Configuration\n",
    "\n",
    "Define paths and simulation parameters.\n",
    "In CI mode, we use reduced parameters for faster testing."
   ]
  },
  {
   "cell_type": "code",
   "execution_count": 2,
   "id": "aa4bad62",
   "metadata": {
    "execution": {
     "iopub.execute_input": "2025-10-15T06:45:00.407454Z",
     "iopub.status.busy": "2025-10-15T06:45:00.407121Z",
     "iopub.status.idle": "2025-10-15T06:45:00.412709Z",
     "shell.execute_reply": "2025-10-15T06:45:00.412145Z"
    }
   },
   "outputs": [
    {
     "name": "stdout",
     "output_type": "stream",
     "text": [
      "Running in CI mode with reduced parameters for fast testing\n"
     ]
    }
   ],
   "source": [
    "IS_CI = os.getenv(\"CI\") is not None\n",
    "\n",
    "# Get the path to the data file relative to this script\n",
    "try:\n",
    "    script_dir = Path(__file__).parent\n",
    "except NameError:\n",
    "    script_dir = Path.cwd()\n",
    "\n",
    "# Search for data file in multiple locations\n",
    "for parent in [script_dir.parent, script_dir, script_dir.parent.parent]:\n",
    "    data_file = parent / \"data\" / \"Na_2000.xyz\"\n",
    "    if data_file.exists():\n",
    "        break\n",
    "else:\n",
    "    msg = f\"Could not find data/Na_2000.xyz. Run from project root. CWD: {Path.cwd()}\"\n",
    "    raise FileNotFoundError(msg) from None\n",
    "\n",
    "# Relaxation parameters\n",
    "max_iter = 20 if IS_CI else 200  # Maximum optimization steps\n",
    "fmax = 0.01 if IS_CI else 0.05  # Force convergence criterion in eV/Å\n",
    "\n",
    "if IS_CI:\n",
    "    print(\"Running in CI mode with reduced parameters for fast testing\")"
   ]
  },
  {
   "cell_type": "markdown",
   "id": "34c23cc4",
   "metadata": {},
   "source": [
    "## Step 1: Load Amorphous Structure\n",
    "\n",
    "Load the pre-generated amorphous sodium structure from the data directory.\n",
    "This structure was obtained from a melt-quench simulation."
   ]
  },
  {
   "cell_type": "code",
   "execution_count": 3,
   "id": "a7b16fe1",
   "metadata": {
    "execution": {
     "iopub.execute_input": "2025-10-15T06:45:00.414474Z",
     "iopub.status.busy": "2025-10-15T06:45:00.414290Z",
     "iopub.status.idle": "2025-10-15T06:45:00.444363Z",
     "shell.execute_reply": "2025-10-15T06:45:00.443700Z"
    }
   },
   "outputs": [
    {
     "name": "stdout",
     "output_type": "stream",
     "text": [
      "Loaded structure with 2000 atoms\n",
      "Cell dimensions: [42.3 42.3 42.3]\n"
     ]
    }
   ],
   "source": [
    "amorphous_atoms = read(data_file, index=\"0\")\n",
    "print(f\"Loaded structure with {len(amorphous_atoms)} atoms\")\n",
    "print(f\"Cell dimensions: {amorphous_atoms.cell.lengths()}\")  # type: ignore"
   ]
  },
  {
   "cell_type": "markdown",
   "id": "ef477855",
   "metadata": {},
   "source": [
    "## Step 2: Extract Crystallizable Subcells\n",
    "\n",
    "Search for periodic subcells within the amorphous structure that could represent\n",
    "crystalline unit cells. The algorithm uses a grid-based search to identify regions\n",
    "with translational symmetry."
   ]
  },
  {
   "cell_type": "code",
   "execution_count": 4,
   "id": "d17fdd3d",
   "metadata": {
    "execution": {
     "iopub.execute_input": "2025-10-15T06:45:00.446390Z",
     "iopub.status.busy": "2025-10-15T06:45:00.446187Z",
     "iopub.status.idle": "2025-10-15T06:45:00.833425Z",
     "shell.execute_reply": "2025-10-15T06:45:00.832751Z"
    }
   },
   "outputs": [
    {
     "name": "stdout",
     "output_type": "stream",
     "text": [
      "Created 214 subcells from amorphous structure\n",
      "Subcells kept after filtering: 214\n",
      "Found 214 crystallizable cells\n"
     ]
    }
   ],
   "source": [
    "\n",
    "crystallizable_cells = extract_crystallizable_subcells(\n",
    "    atoms=amorphous_atoms,  # type: ignore\n",
    "    d_frac=0.15,  # Grid spacing as fraction of cell dimensions\n",
    "    n_min=2,  # Minimum grid divisions per dimension\n",
    "    n_max=12,  # Maximum grid divisions per dimension\n",
    "    cubic_only=False,  # Allow non-cubic structures\n",
    "    allowed_atom_counts=None,  # No restriction on number of atoms per cell\n",
    ")\n",
    "\n",
    "print(f\"Found {len(crystallizable_cells)} crystallizable cells\")"
   ]
  },
  {
   "cell_type": "markdown",
   "id": "7466409b",
   "metadata": {},
   "source": [
    "## Step 3: Initialize MACE Calculator"
   ]
  },
  {
   "cell_type": "code",
   "execution_count": 5,
   "id": "850a9db7",
   "metadata": {
    "execution": {
     "iopub.execute_input": "2025-10-15T06:45:00.835406Z",
     "iopub.status.busy": "2025-10-15T06:45:00.835194Z",
     "iopub.status.idle": "2025-10-15T06:45:00.937805Z",
     "shell.execute_reply": "2025-10-15T06:45:00.937016Z"
    }
   },
   "outputs": [
    {
     "name": "stdout",
     "output_type": "stream",
     "text": [
      "Using model under Academic Software License (ASL) license, see https://github.com/gabor1/ASL \n",
      " To use this model you accept the terms of the license.\n",
      "Using Materials Project MACE for MACECalculator with /home/runner/.cache/mace/maceomat0smallmodel\n",
      "Using float32 for MACECalculator, which is faster but less accurate. Recommended for MD. Use float64 for geometry optimization.\n",
      "Using head omat_pbe out of ['omat_pbe']\n",
      "Default dtype float32 does not match model dtype float64, converting models to float32.\n",
      "MACE calculator initialized on cpu\n"
     ]
    },
    {
     "name": "stderr",
     "output_type": "stream",
     "text": [
      "/opt/hostedtoolcache/Python/3.10.18/x64/lib/python3.10/site-packages/mace/calculators/mace.py:197: UserWarning: Environment variable TORCH_FORCE_NO_WEIGHTS_ONLY_LOAD detected, since the`weights_only` argument was not explicitly passed to `torch.load`, forcing weights_only=False.\n",
      "  torch.load(f=model_path, map_location=device)\n"
     ]
    }
   ],
   "source": [
    "device = \"cpu\" if IS_CI else \"cuda\"\n",
    "calculator = mace_mp(model=\"small-omat-0\", device=device, dtype=\"float32\")\n",
    "print(f\"MACE calculator initialized on {device}\")"
   ]
  },
  {
   "cell_type": "markdown",
   "id": "66776342",
   "metadata": {},
   "source": [
    "## Step 4: Relax Candidate Structures\n",
    "\n",
    "For each extracted subcell, we perform a full structure relaxation (both atomic positions\n",
    "and cell parameters) using the FIRE optimizer. This identifies the energetically favorable\n",
    "crystalline structures."
   ]
  },
  {
   "cell_type": "code",
   "execution_count": 6,
   "id": "0af2e97f",
   "metadata": {
    "execution": {
     "iopub.execute_input": "2025-10-15T06:45:00.939971Z",
     "iopub.status.busy": "2025-10-15T06:45:00.939723Z",
     "iopub.status.idle": "2025-10-15T06:46:16.638011Z",
     "shell.execute_reply": "2025-10-15T06:46:16.636940Z"
    }
   },
   "outputs": [
    {
     "name": "stdout",
     "output_type": "stream",
     "text": [
      "Relaxing structures...\n"
     ]
    },
    {
     "name": "stderr",
     "output_type": "stream",
     "text": [
      "\r",
      "  0%|          | 0/20 [00:00<?, ?it/s]"
     ]
    },
    {
     "name": "stderr",
     "output_type": "stream",
     "text": [
      "\r",
      "  5%|▌         | 1/20 [00:03<01:13,  3.86s/it]"
     ]
    },
    {
     "name": "stderr",
     "output_type": "stream",
     "text": [
      "\r",
      " 10%|█         | 2/20 [00:07<01:08,  3.82s/it]"
     ]
    },
    {
     "name": "stderr",
     "output_type": "stream",
     "text": [
      "\r",
      " 15%|█▌        | 3/20 [00:11<01:04,  3.80s/it]"
     ]
    },
    {
     "name": "stderr",
     "output_type": "stream",
     "text": [
      "\r",
      " 20%|██        | 4/20 [00:15<01:00,  3.78s/it]"
     ]
    },
    {
     "name": "stderr",
     "output_type": "stream",
     "text": [
      "\r",
      " 25%|██▌       | 5/20 [00:18<00:54,  3.62s/it]"
     ]
    },
    {
     "name": "stderr",
     "output_type": "stream",
     "text": [
      "\r",
      " 30%|███       | 6/20 [00:22<00:52,  3.75s/it]"
     ]
    },
    {
     "name": "stderr",
     "output_type": "stream",
     "text": [
      "\r",
      " 35%|███▌      | 7/20 [00:26<00:48,  3.69s/it]"
     ]
    },
    {
     "name": "stderr",
     "output_type": "stream",
     "text": [
      "\r",
      " 40%|████      | 8/20 [00:29<00:45,  3.76s/it]"
     ]
    },
    {
     "name": "stderr",
     "output_type": "stream",
     "text": [
      "\r",
      " 45%|████▌     | 9/20 [00:34<00:42,  3.89s/it]"
     ]
    },
    {
     "name": "stderr",
     "output_type": "stream",
     "text": [
      "\r",
      " 50%|█████     | 10/20 [00:38<00:39,  3.97s/it]"
     ]
    },
    {
     "name": "stderr",
     "output_type": "stream",
     "text": [
      "\r",
      " 55%|█████▌    | 11/20 [00:42<00:35,  3.95s/it]"
     ]
    },
    {
     "name": "stderr",
     "output_type": "stream",
     "text": [
      "\r",
      " 60%|██████    | 12/20 [00:46<00:31,  3.91s/it]"
     ]
    },
    {
     "name": "stderr",
     "output_type": "stream",
     "text": [
      "\r",
      " 65%|██████▌   | 13/20 [00:50<00:28,  4.04s/it]"
     ]
    },
    {
     "name": "stderr",
     "output_type": "stream",
     "text": [
      "\r",
      " 70%|███████   | 14/20 [00:54<00:23,  3.95s/it]"
     ]
    },
    {
     "name": "stderr",
     "output_type": "stream",
     "text": [
      "\r",
      " 75%|███████▌  | 15/20 [00:57<00:19,  3.80s/it]"
     ]
    },
    {
     "name": "stderr",
     "output_type": "stream",
     "text": [
      "\r",
      " 80%|████████  | 16/20 [01:00<00:14,  3.64s/it]"
     ]
    },
    {
     "name": "stderr",
     "output_type": "stream",
     "text": [
      "\r",
      " 85%|████████▌ | 17/20 [01:04<00:11,  3.70s/it]"
     ]
    },
    {
     "name": "stderr",
     "output_type": "stream",
     "text": [
      "\r",
      " 90%|█████████ | 18/20 [01:08<00:07,  3.61s/it]"
     ]
    },
    {
     "name": "stderr",
     "output_type": "stream",
     "text": [
      "\r",
      " 95%|█████████▌| 19/20 [01:11<00:03,  3.62s/it]"
     ]
    },
    {
     "name": "stderr",
     "output_type": "stream",
     "text": [
      "\r",
      "100%|██████████| 20/20 [01:15<00:00,  3.72s/it]"
     ]
    },
    {
     "name": "stderr",
     "output_type": "stream",
     "text": [
      "\r",
      "100%|██████████| 20/20 [01:15<00:00,  3.78s/it]"
     ]
    },
    {
     "name": "stdout",
     "output_type": "stream",
     "text": [
      "Successfully relaxed 20 structures\n"
     ]
    },
    {
     "name": "stderr",
     "output_type": "stream",
     "text": [
      "\n"
     ]
    }
   ],
   "source": [
    "space_groups = []\n",
    "relaxed_cells = []\n",
    "\n",
    "print(\"Relaxing structures...\")\n",
    "for atoms in tqdm(crystallizable_cells[:20] if IS_CI else crystallizable_cells):\n",
    "    relaxed_cell, log_dict = relax_unit_cell(\n",
    "        atoms=atoms,\n",
    "        calculator=calculator,\n",
    "        max_iter=max_iter,\n",
    "        fmax=fmax,\n",
    "        verbose=False,\n",
    "    )\n",
    "\n",
    "    # Convert to pymatgen and get space group\n",
    "    adaptor = AseAtomsAdaptor()\n",
    "    structure = adaptor.get_structure(relaxed_cell)\n",
    "    sga = SpacegroupAnalyzer(structure, symprec=0.1)\n",
    "    space_group = sga.get_space_group_symbol()\n",
    "\n",
    "    space_groups.append(space_group)\n",
    "    relaxed_cells.append(relaxed_cell)\n",
    "\n",
    "print(f\"Successfully relaxed {len(relaxed_cells)} structures\")"
   ]
  },
  {
   "cell_type": "markdown",
   "id": "ebf3c1be",
   "metadata": {},
   "source": [
    "## Step 5: Analyze Space Group Distribution\n",
    "\n",
    "Analyze the symmetry of relaxed structures to understand what crystal structures\n",
    "are accessible from the amorphous precursor. For sodium, we expect to see body-centered\n",
    "cubic (bcc, space group Im-3m) as the most stable phase at ambient conditions."
   ]
  },
  {
   "cell_type": "code",
   "execution_count": 7,
   "id": "046d3e6e",
   "metadata": {
    "execution": {
     "iopub.execute_input": "2025-10-15T06:46:16.640381Z",
     "iopub.status.busy": "2025-10-15T06:46:16.640143Z",
     "iopub.status.idle": "2025-10-15T06:46:16.746375Z",
     "shell.execute_reply": "2025-10-15T06:46:16.745738Z"
    }
   },
   "outputs": [],
   "source": [
    "space_group_counts = Counter(space_groups)\n",
    "sorted_groups = sorted(space_group_counts.items(), key=lambda x: x[1], reverse=True)\n",
    "\n",
    "# Create visualization\n",
    "fig, ax = plt.subplots(figsize=(9, 6))\n",
    "labels = [sg[0] for sg in sorted_groups]\n",
    "counts = [sg[1] for sg in sorted_groups]\n",
    "\n",
    "ax.bar(range(len(labels)), counts)\n",
    "ax.set_xticks(range(len(labels)))\n",
    "ax.set_xticklabels(labels, rotation=45, ha=\"right\")\n",
    "ax.set_xlabel(\"Space Group\")\n",
    "ax.set_ylabel(\"Count\")\n",
    "ax.set_title(\"Space Group Distribution of Relaxed Structures\")\n",
    "ax.grid(axis=\"y\", alpha=0.3)\n",
    "\n",
    "plt.tight_layout()\n",
    "\n",
    "# Save plot (skip display in CI)\n",
    "if not IS_CI:\n",
    "    output_file = script_dir / \"space_group_distribution.png\"\n",
    "    plt.savefig(output_file, dpi=300, bbox_inches=\"tight\")\n",
    "    print(f\"\\nPlot saved to {output_file}\")\n",
    "    plt.show()\n",
    "else:\n",
    "    plt.close()  # Clean up in CI"
   ]
  },
  {
   "cell_type": "markdown",
   "id": "f1cb8dc6",
   "metadata": {},
   "source": [
    "## Results Summary\n",
    "\n",
    "Print detailed statistics about the space group distribution.\n",
    "This helps identify the most frequently occurring crystal structures."
   ]
  },
  {
   "cell_type": "code",
   "execution_count": 8,
   "id": "92ec91b5",
   "metadata": {
    "execution": {
     "iopub.execute_input": "2025-10-15T06:46:16.748730Z",
     "iopub.status.busy": "2025-10-15T06:46:16.748469Z",
     "iopub.status.idle": "2025-10-15T06:46:16.752630Z",
     "shell.execute_reply": "2025-10-15T06:46:16.752124Z"
    }
   },
   "outputs": [
    {
     "name": "stdout",
     "output_type": "stream",
     "text": [
      "\n",
      "Space Group Statistics:\n",
      "P1: 20 structures (100.0%)\n",
      "Total: 20 unique structures analyzed\n"
     ]
    }
   ],
   "source": [
    "print(\"\\nSpace Group Statistics:\")\n",
    "for sg, count in sorted_groups:\n",
    "    percentage = count / len(space_groups) * 100\n",
    "    print(f\"{sg}: {count} structures ({percentage:>5.1f}%)\")\n",
    "print(f\"Total: {len(space_groups)} unique structures analyzed\")"
   ]
  }
 ],
 "metadata": {
  "jupytext": {
   "cell_metadata_filter": "-all"
  },
  "kernelspec": {
   "display_name": "Python 3 (ipykernel)",
   "language": "python",
   "name": "python3"
  },
  "language_info": {
   "codemirror_mode": {
    "name": "ipython",
    "version": 3
   },
   "file_extension": ".py",
   "mimetype": "text/x-python",
   "name": "python",
   "nbconvert_exporter": "python",
   "pygments_lexer": "ipython3",
   "version": "3.10.18"
  }
 },
 "nbformat": 4,
 "nbformat_minor": 5
}
