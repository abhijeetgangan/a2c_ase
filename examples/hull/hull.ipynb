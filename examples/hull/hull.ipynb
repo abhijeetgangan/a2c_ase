{
 "cells": [
  {
   "cell_type": "markdown",
   "id": "1fecc913",
   "metadata": {},
   "source": [
    "<details>\n",
    "  <summary>Dependencies</summary>\n",
    "/// script\n",
    "requires-python = \">=3.10\"\n",
    "dependencies = [\n",
    "    \"a2c-ase @ git+https://github.com/abhijeetgangan/a2c_ase.git\",\n",
    "    \"numpy\",\n",
    "    \"pymatgen\",\n",
    "    \"tqdm\",\n",
    "    \"plotly\",\n",
    "    \"kaleido\",\n",
    "]\n",
    "///\n",
    "</details>"
   ]
  },
  {
   "cell_type": "markdown",
   "id": "ea3cacd5",
   "metadata": {},
   "source": [
    "Kob-Andersen Binary System - a2c Workflow\n",
    "\n",
    "Hull exploration with a2c workflow for the classic Kob-Andersen binary Lennard-Jones glass former.\n",
    "Uses reduced units (LJ natural units: sigma, epsilon)."
   ]
  },
  {
   "cell_type": "markdown",
   "id": "3057654e",
   "metadata": {},
   "source": [
    "## Setup and Imports\n",
    "\n",
    "The Kob-Andersen model is a classic binary Lennard-Jones system that forms metallic glasses.\n",
    "We use reduced units: distances in sigma, energies in epsilon. We will demonstrate how we can\n",
    "explore the hull for a selected compositions."
   ]
  },
  {
   "cell_type": "code",
   "execution_count": 1,
   "id": "018979f4",
   "metadata": {
    "execution": {
     "iopub.execute_input": "2025-10-15T06:44:14.822138Z",
     "iopub.status.busy": "2025-10-15T06:44:14.821953Z",
     "iopub.status.idle": "2025-10-15T06:44:15.605710Z",
     "shell.execute_reply": "2025-10-15T06:44:15.605100Z"
    }
   },
   "outputs": [],
   "source": [
    "import os\n",
    "from collections import Counter\n",
    "\n",
    "import numpy as np\n",
    "from ase import Atoms\n",
    "from ase.build import bulk\n",
    "from pymatgen.analysis.phase_diagram import PDEntry, PDPlotter, PhaseDiagram\n",
    "from pymatgen.core.composition import Composition\n",
    "from tqdm import tqdm\n",
    "\n",
    "from a2c_ase.potentials.mlj import MultiLennardJones\n",
    "from a2c_ase.runner import melt_quench_md, relax_unit_cell\n",
    "from a2c_ase.utils import extract_crystallizable_subcells, random_packed_structure\n",
    "\n",
    "IS_CI = os.getenv(\"CI\") is not None"
   ]
  },
  {
   "cell_type": "markdown",
   "id": "574ba50d",
   "metadata": {},
   "source": [
    "## Kob-Andersen Parameters\n",
    "\n",
    "Classic binary LJ glass former with reduced units (dimensionless):\n",
    "- A particles (Ni): 80%, σ=1.0, ε=1.0 (reference)\n",
    "- B particles (P): 20%, σ=0.88, ε=0.5\n",
    "- Cross: σ_AB=0.8, ε_AB=1.5\n",
    "- Glass transition: T_g ≈ 0.435 (in reduced units)"
   ]
  },
  {
   "cell_type": "code",
   "execution_count": 2,
   "id": "ae740dad",
   "metadata": {
    "execution": {
     "iopub.execute_input": "2025-10-15T06:44:15.608224Z",
     "iopub.status.busy": "2025-10-15T06:44:15.607909Z",
     "iopub.status.idle": "2025-10-15T06:44:15.612799Z",
     "shell.execute_reply": "2025-10-15T06:44:15.612252Z"
    }
   },
   "outputs": [],
   "source": [
    "# System configuration (80:20 A:B composition)\n",
    "comp = Composition(\"Ni80P20\")\n",
    "\n",
    "# Cell in LJ units (sigma as length unit)\n",
    "cell_size = 4.4\n",
    "cell = np.array([[cell_size, 0.0, 0.0], [0.0, cell_size, 0.0], [0.0, 0.0, cell_size]])\n",
    "\n",
    "# Kob-Andersen calculator (reduced/LJ units)\n",
    "calculator = MultiLennardJones(\n",
    "    sigma={\"Ni\": 1.0, \"P\": 0.88},  # LJ sigma in natural units\n",
    "    epsilon={\"Ni\": 1.0, \"P\": 0.5},  # LJ epsilon in natural units\n",
    "    cross_interactions={(\"Ni\", \"P\"): {\"sigma\": 0.8, \"epsilon\": 1.5}},\n",
    "    rc=2.5,  # Cutoff in units of sigma\n",
    "    smooth=True,\n",
    ")"
   ]
  },
  {
   "cell_type": "markdown",
   "id": "c2bd060d",
   "metadata": {},
   "source": [
    "## Simulation Parameters\n",
    "\n",
    "All parameters in reduced LJ units (dimensionless):\n",
    "- Energy: ε (epsilon) = 1.0\n",
    "- Distance: σ (sigma) = 1.0\n",
    "- Temperature: T* = kT/ε\n",
    "- Time: τ = √(mσ²/ε) (dimensionless)"
   ]
  },
  {
   "cell_type": "code",
   "execution_count": 3,
   "id": "dbc5729e",
   "metadata": {
    "execution": {
     "iopub.execute_input": "2025-10-15T06:44:15.614668Z",
     "iopub.status.busy": "2025-10-15T06:44:15.614460Z",
     "iopub.status.idle": "2025-10-15T06:44:15.618706Z",
     "shell.execute_reply": "2025-10-15T06:44:15.618133Z"
    }
   },
   "outputs": [
    {
     "name": "stdout",
     "output_type": "stream",
     "text": [
      "Running in CI mode with reduced parameters\n"
     ]
    }
   ],
   "source": [
    "global_seed = 42\n",
    "fmax = 0.01  # Force convergence in reduced units\n",
    "\n",
    "# Reduce parameters for CI testing\n",
    "max_iter = 20 if IS_CI else 200\n",
    "\n",
    "# MD parameters (LJ units)\n",
    "md_log_interval = 50\n",
    "md_equi_steps = 100 if IS_CI else 2500\n",
    "md_cool_steps = 100 if IS_CI else 2500\n",
    "md_final_steps = 100 if IS_CI else 2500\n",
    "md_T_high = 4.0  # High T* (reduced units, above glass transition ~0.8)\n",
    "md_T_low = 0.4  # Low T* (reduced units, below glass transition)\n",
    "md_time_step = 0.005  # Timestep in reduced units\n",
    "md_friction = 1 / (100 * md_time_step)  # Friction coefficient\n",
    "\n",
    "if IS_CI:\n",
    "    print(\"Running in CI mode with reduced parameters\")"
   ]
  },
  {
   "cell_type": "markdown",
   "id": "e8746009",
   "metadata": {},
   "source": [
    "## Step 1: Generate Random Packed Structure\n",
    "\n",
    "Create initial random configuration with A and B particles."
   ]
  },
  {
   "cell_type": "code",
   "execution_count": 4,
   "id": "6feb5c2b",
   "metadata": {
    "execution": {
     "iopub.execute_input": "2025-10-15T06:44:15.620530Z",
     "iopub.status.busy": "2025-10-15T06:44:15.620331Z",
     "iopub.status.idle": "2025-10-15T06:44:16.551691Z",
     "shell.execute_reply": "2025-10-15T06:44:16.551118Z"
    }
   },
   "outputs": [
    {
     "name": "stdout",
     "output_type": "stream",
     "text": [
      "Reduce atom overlap using the soft_sphere potential\n",
      "Initial energy: 186.9468\n",
      "Step: 0, E: 186.9468, Fmax: 1.7763, Min dist: 0.1037\n",
      "Step: 1, E: 186.1019, Fmax: 1.7140, Min dist: 0.1120\n",
      "Step: 2, E: 184.5282, Fmax: 1.5892, Min dist: 0.1259\n"
     ]
    },
    {
     "name": "stdout",
     "output_type": "stream",
     "text": [
      "Step: 3, E: 182.9326, Fmax: 1.4488, Min dist: 0.1413\n",
      "Step: 4, E: 181.4750, Fmax: 1.3043, Min dist: 0.1570\n",
      "Step: 5, E: 180.1550, Fmax: 1.1980, Min dist: 0.1732\n",
      "Step: 6, E: 178.9719, Fmax: 1.0905, Min dist: 0.1900\n"
     ]
    },
    {
     "name": "stdout",
     "output_type": "stream",
     "text": [
      "Step: 7, E: 177.9247, Fmax: 0.9773, Min dist: 0.2075\n",
      "Step: 8, E: 177.0115, Fmax: 0.8635, Min dist: 0.2259\n",
      "Step: 9, E: 176.2302, Fmax: 0.7401, Min dist: 0.2453\n",
      "Step: 10, E: 175.5772, Fmax: 0.6216, Min dist: 0.2661\n",
      "Step: 11, E: 175.0457, Fmax: 0.5197, Min dist: 0.2883\n"
     ]
    },
    {
     "name": "stdout",
     "output_type": "stream",
     "text": [
      "Step: 12, E: 174.6261, Fmax: 0.4208, Min dist: 0.3123\n",
      "Step: 13, E: 174.3075, Fmax: 0.3560, Min dist: 0.3384\n",
      "Step: 14, E: 174.0753, Fmax: 0.3206, Min dist: 0.3669\n",
      "Step: 15, E: 173.9128, Fmax: 0.3017, Min dist: 0.3980\n",
      "Step: 16, E: 173.8007, Fmax: 0.3088, Min dist: 0.4317\n",
      "Step: 17, E: 173.7181, Fmax: 0.3481, Min dist: 0.4679\n"
     ]
    },
    {
     "name": "stdout",
     "output_type": "stream",
     "text": [
      "Step: 18, E: 173.6440, Fmax: 0.3657, Min dist: 0.5062\n",
      "Step: 19, E: 173.5592, Fmax: 0.3609, Min dist: 0.5459\n",
      "Step: 20, E: 173.4504, Fmax: 0.3319, Min dist: 0.5582\n",
      "Final energy: 173.4504\n",
      "Generated packed structure: Atoms(symbols='Ni80P20', pbc=True, cell=[4.4, 4.4, 4.4], calculator=SoftSphere(...))\n",
      "Number of Ni (A) atoms: 80\n",
      "Number of P (B) atoms: 20\n"
     ]
    }
   ],
   "source": [
    "packed_atoms, log_data = random_packed_structure(\n",
    "    composition=comp,\n",
    "    cell=cell,\n",
    "    seed=global_seed,\n",
    "    diameter=2.5,\n",
    "    max_iter=max_iter,\n",
    "    fmax=fmax,\n",
    "    verbose=True,\n",
    "    auto_diameter=False,\n",
    ")\n",
    "print(f\"Generated packed structure: {packed_atoms}\")\n",
    "print(f\"Number of Ni (A) atoms: {sum(1 for s in packed_atoms.symbols if s == 'Ni')}\")\n",
    "print(f\"Number of P (B) atoms: {sum(1 for s in packed_atoms.symbols if s == 'P')}\")"
   ]
  },
  {
   "cell_type": "code",
   "execution_count": 5,
   "id": "c5a23128",
   "metadata": {
    "execution": {
     "iopub.execute_input": "2025-10-15T06:44:16.553747Z",
     "iopub.status.busy": "2025-10-15T06:44:16.553543Z",
     "iopub.status.idle": "2025-10-15T06:44:19.295494Z",
     "shell.execute_reply": "2025-10-15T06:44:19.294573Z"
    }
   },
   "outputs": [
    {
     "name": "stdout",
     "output_type": "stream",
     "text": [
      "Initial energy: 24103.049587 eV\n",
      "Initial volume: 85.184 Å³\n",
      "Initial pressure: 1208.881066 eV/Å³\n",
      "Step 0: E = 24103.049587 eV, Fmax = 92475.904440 eV/Å, P = 1208.881066 eV/Å³, V = 85.184 Å³\n"
     ]
    },
    {
     "name": "stdout",
     "output_type": "stream",
     "text": [
      "Step 1: E = 9201.490457 eV, Fmax = 9653.251133 eV/Å, P = 500.139940 eV/Å³, V = 85.186 Å³\n"
     ]
    },
    {
     "name": "stdout",
     "output_type": "stream",
     "text": [
      "Step 2: E = 6933.804645 eV, Fmax = 13343.286963 eV/Å, P = 390.315734 eV/Å³, V = 85.190 Å³\n"
     ]
    },
    {
     "name": "stdout",
     "output_type": "stream",
     "text": [
      "Step 3: E = 5566.112354 eV, Fmax = 8726.639546 eV/Å, P = 323.785760 eV/Å³, V = 85.195 Å³\n"
     ]
    },
    {
     "name": "stdout",
     "output_type": "stream",
     "text": [
      "Step 4: E = 4520.803711 eV, Fmax = 5452.583236 eV/Å, P = 272.783127 eV/Å³, V = 85.200 Å³\n"
     ]
    },
    {
     "name": "stdout",
     "output_type": "stream",
     "text": [
      "Step 5: E = 3890.780941 eV, Fmax = 5077.364589 eV/Å, P = 241.627518 eV/Å³, V = 85.207 Å³\n",
      "Step 6: E = 3381.857741 eV, Fmax = 4181.581220 eV/Å, P = 216.357357 eV/Å³, V = 85.215 Å³\n"
     ]
    },
    {
     "name": "stdout",
     "output_type": "stream",
     "text": [
      "Step 7: E = 2907.676084 eV, Fmax = 4455.688123 eV/Å, P = 192.861648 eV/Å³, V = 85.224 Å³\n"
     ]
    },
    {
     "name": "stdout",
     "output_type": "stream",
     "text": [
      "Step 8: E = 2517.345085 eV, Fmax = 4636.406730 eV/Å, P = 173.471604 eV/Å³, V = 85.234 Å³\n"
     ]
    },
    {
     "name": "stdout",
     "output_type": "stream",
     "text": [
      "Step 9: E = 2204.754508 eV, Fmax = 4495.762339 eV/Å, P = 157.920712 eV/Å³, V = 85.245 Å³\n"
     ]
    },
    {
     "name": "stdout",
     "output_type": "stream",
     "text": [
      "Step 10: E = 1969.702478 eV, Fmax = 2682.887341 eV/Å, P = 146.213460 eV/Å³, V = 85.258 Å³\n"
     ]
    },
    {
     "name": "stdout",
     "output_type": "stream",
     "text": [
      "Step 11: E = 1842.936639 eV, Fmax = 2818.194326 eV/Å, P = 139.733149 eV/Å³, V = 85.271 Å³\n"
     ]
    },
    {
     "name": "stdout",
     "output_type": "stream",
     "text": [
      "Step 12: E = 1145.771025 eV, Fmax = 730.623441 eV/Å, P = 104.316168 eV/Å³, V = 85.281 Å³\n"
     ]
    },
    {
     "name": "stdout",
     "output_type": "stream",
     "text": [
      "Step 13: E = 833.955456 eV, Fmax = 1207.098799 eV/Å, P = 87.827478 eV/Å³, V = 85.294 Å³\n",
      "Step 14: E = 595.840582 eV, Fmax = 516.955791 eV/Å, P = 75.143666 eV/Å³, V = 85.310 Å³\n"
     ]
    },
    {
     "name": "stdout",
     "output_type": "stream",
     "text": [
      "Step 15: E = 416.414893 eV, Fmax = 384.055368 eV/Å, P = 65.443928 eV/Å³, V = 85.329 Å³\n",
      "Step 16: E = 256.310322 eV, Fmax = 322.465777 eV/Å, P = 56.774559 eV/Å³, V = 85.349 Å³\n"
     ]
    },
    {
     "name": "stdout",
     "output_type": "stream",
     "text": [
      "Step 17: E = 123.041348 eV, Fmax = 232.079330 eV/Å, P = 49.503373 eV/Å³, V = 85.371 Å³\n",
      "Step 18: E = 25.253097 eV, Fmax = 309.653331 eV/Å, P = 44.049215 eV/Å³, V = 85.395 Å³\n"
     ]
    },
    {
     "name": "stdout",
     "output_type": "stream",
     "text": [
      "Step 19: E = -52.095182 eV, Fmax = 452.306409 eV/Å, P = 39.653908 eV/Å³, V = 85.421 Å³\n",
      "Step 20: E = -127.192693 eV, Fmax = 321.594908 eV/Å, P = 35.421277 eV/Å³, V = 85.448 Å³\n",
      "\n",
      "Optimization completed:\n",
      "Final energy: -127.192693 eV\n",
      "Final volume: 85.448 Å³\n",
      "Final pressure: 35.421277 eV/Å³\n",
      "Steps taken: 20\n"
     ]
    }
   ],
   "source": [
    "# Relax the packed structure so that the initial structure doesn't have\n",
    "# large forces for melt-quench MD.\n",
    "packed_atoms, logger = relax_unit_cell(\n",
    "    atoms=packed_atoms, calculator=calculator, max_iter=max_iter, fmax=fmax, verbose=True\n",
    ")"
   ]
  },
  {
   "cell_type": "markdown",
   "id": "26e2a6d1",
   "metadata": {},
   "source": [
    "## Step 2: Melt-Quench MD Simulation\n",
    "\n",
    "Heat to T*=4.0, quench to T*=0.4 (near T_g≈0.435)."
   ]
  },
  {
   "cell_type": "code",
   "execution_count": 6,
   "id": "8729bb13",
   "metadata": {
    "execution": {
     "iopub.execute_input": "2025-10-15T06:44:19.298309Z",
     "iopub.status.busy": "2025-10-15T06:44:19.298073Z",
     "iopub.status.idle": "2025-10-15T06:44:24.130277Z",
     "shell.execute_reply": "2025-10-15T06:44:24.129638Z"
    }
   },
   "outputs": [
    {
     "name": "stdout",
     "output_type": "stream",
     "text": [
      "Step 0/300: T = 4.0 K, E_pot = -127.193 eV, E_kin = 0.052 eV\n"
     ]
    },
    {
     "name": "stdout",
     "output_type": "stream",
     "text": [
      "Step 50/300: T = 387.7 K, E_pot = -132.315 eV, E_kin = 5.012 eV\n"
     ]
    },
    {
     "name": "stdout",
     "output_type": "stream",
     "text": [
      "Step 100/300: T = 1372.4 K, E_pot = -146.128 eV, E_kin = 17.739 eV\n"
     ]
    },
    {
     "name": "stdout",
     "output_type": "stream",
     "text": [
      "Step 150/300: T = 2665.8 K, E_pot = -165.371 eV, E_kin = 34.458 eV\n"
     ]
    },
    {
     "name": "stdout",
     "output_type": "stream",
     "text": [
      "Step 200/300: T = 4000.5 K, E_pot = -186.808 eV, E_kin = 51.710 eV\n"
     ]
    },
    {
     "name": "stdout",
     "output_type": "stream",
     "text": [
      "Step 250/300: T = 5196.7 K, E_pot = -208.140 eV, E_kin = 67.173 eV\n"
     ]
    },
    {
     "name": "stdout",
     "output_type": "stream",
     "text": [
      "\n",
      "Melt-quench simulation completed:\n",
      "Final temperature: 6187.7 K\n",
      "Final energy: -228.141 eV\n",
      "Amorphous structure ready: Atoms(symbols='Ni80P20', pbc=True, cell=[[4.404302085217416, 0.0004704354711196714, -0.00011483479060379136], [0.0004703656985870155, 4.405225004480768, 0.0005501805715166627], [-0.00011486374903597653, 0.0005501986925379699, 4.404104872625505]], momenta=..., calculator=MultiLennardJones(...))\n"
     ]
    }
   ],
   "source": [
    "amorphous_atoms, md_log = melt_quench_md(\n",
    "    atoms=packed_atoms,\n",
    "    calculator=calculator,\n",
    "    equi_steps=md_equi_steps,\n",
    "    cool_steps=md_cool_steps,\n",
    "    final_steps=md_final_steps,\n",
    "    T_high=md_T_high,\n",
    "    T_low=md_T_low,\n",
    "    time_step=md_time_step,\n",
    "    friction=md_friction,\n",
    "    seed=global_seed,\n",
    "    verbose=True,\n",
    "    log_interval=md_log_interval,\n",
    ")\n",
    "print(f\"Amorphous structure ready: {amorphous_atoms}\")"
   ]
  },
  {
   "cell_type": "markdown",
   "id": "0bdb3e05",
   "metadata": {},
   "source": [
    "## Step 3: Extract Crystallizable Subcells\n",
    "\n",
    "Divide the glass into overlapping subcells to search for local crystalline order.\n",
    "In this example, we will only consider the following compositions:\n",
    "Ni, NiP, Ni2P, Ni4P, NiP2, NiP4, P."
   ]
  },
  {
   "cell_type": "code",
   "execution_count": 7,
   "id": "a1b86087",
   "metadata": {
    "execution": {
     "iopub.execute_input": "2025-10-15T06:44:24.132358Z",
     "iopub.status.busy": "2025-10-15T06:44:24.132152Z",
     "iopub.status.idle": "2025-10-15T06:44:24.228824Z",
     "shell.execute_reply": "2025-10-15T06:44:24.227853Z"
    }
   },
   "outputs": [
    {
     "name": "stdout",
     "output_type": "stream",
     "text": [
      "Created 261 subcells from amorphous structure\n",
      "Subcells kept after filtering: 261\n",
      "Extracted 261 candidate subcells\n"
     ]
    }
   ],
   "source": [
    "crystallizable_cells = extract_crystallizable_subcells(\n",
    "    atoms=amorphous_atoms,\n",
    "    d_frac=0.25,  # Grid spacing (larger for binary system)\n",
    "    n_min=2,\n",
    "    n_max=8,  # Allow larger subcells for binary compounds\n",
    "    cubic_only=False,  # Allow non-cubic structures\n",
    "    allowed_atom_counts=None,  # Don't restrict by count\n",
    "    restrict_to_compositions=[\n",
    "        \"Ni\",\n",
    "        \"NiP\",\n",
    "        \"Ni2P\",\n",
    "        \"Ni4P\",\n",
    "        \"NiP2\",\n",
    "        \"NiP4\",\n",
    "        \"P\",\n",
    "    ],  # Only consider these compositions\n",
    "    max_coeff=None,\n",
    "    elements=None,\n",
    ")\n",
    "print(f\"Extracted {len(crystallizable_cells)} candidate subcells\")"
   ]
  },
  {
   "cell_type": "markdown",
   "id": "e5405701",
   "metadata": {},
   "source": [
    "## Step 4: Optimize Subcells\n",
    "\n",
    "Relax each subcell to find stable crystalline phases."
   ]
  },
  {
   "cell_type": "code",
   "execution_count": 8,
   "id": "29ece8c9",
   "metadata": {
    "execution": {
     "iopub.execute_input": "2025-10-15T06:44:24.231440Z",
     "iopub.status.busy": "2025-10-15T06:44:24.231203Z",
     "iopub.status.idle": "2025-10-15T06:44:51.831995Z",
     "shell.execute_reply": "2025-10-15T06:44:51.829477Z"
    }
   },
   "outputs": [
    {
     "name": "stdout",
     "output_type": "stream",
     "text": [
      "Optimizing candidate structures...\n"
     ]
    },
    {
     "name": "stderr",
     "output_type": "stream",
     "text": [
      "\r",
      "  0%|          | 0/20 [00:00<?, ?it/s]"
     ]
    },
    {
     "name": "stderr",
     "output_type": "stream",
     "text": [
      "\r",
      "  5%|▌         | 1/20 [00:01<00:23,  1.22s/it]"
     ]
    },
    {
     "name": "stderr",
     "output_type": "stream",
     "text": [
      "\r",
      " 10%|█         | 2/20 [00:02<00:24,  1.36s/it]"
     ]
    },
    {
     "name": "stderr",
     "output_type": "stream",
     "text": [
      "\r",
      " 15%|█▌        | 3/20 [00:04<00:23,  1.35s/it]"
     ]
    },
    {
     "name": "stderr",
     "output_type": "stream",
     "text": [
      "\r",
      " 20%|██        | 4/20 [00:05<00:20,  1.31s/it]"
     ]
    },
    {
     "name": "stderr",
     "output_type": "stream",
     "text": [
      "\r",
      " 25%|██▌       | 5/20 [00:06<00:19,  1.31s/it]"
     ]
    },
    {
     "name": "stderr",
     "output_type": "stream",
     "text": [
      "\r",
      " 30%|███       | 6/20 [00:07<00:16,  1.16s/it]"
     ]
    },
    {
     "name": "stderr",
     "output_type": "stream",
     "text": [
      "\r",
      " 35%|███▌      | 7/20 [00:08<00:16,  1.24s/it]"
     ]
    },
    {
     "name": "stderr",
     "output_type": "stream",
     "text": [
      "\r",
      " 40%|████      | 8/20 [00:10<00:15,  1.28s/it]"
     ]
    },
    {
     "name": "stderr",
     "output_type": "stream",
     "text": [
      "\r",
      " 45%|████▌     | 9/20 [00:11<00:13,  1.22s/it]"
     ]
    },
    {
     "name": "stderr",
     "output_type": "stream",
     "text": [
      "\r",
      " 50%|█████     | 10/20 [00:12<00:13,  1.31s/it]"
     ]
    },
    {
     "name": "stderr",
     "output_type": "stream",
     "text": [
      "\r",
      " 55%|█████▌    | 11/20 [00:14<00:11,  1.29s/it]"
     ]
    },
    {
     "name": "stderr",
     "output_type": "stream",
     "text": [
      "\r",
      " 60%|██████    | 12/20 [00:15<00:10,  1.33s/it]"
     ]
    },
    {
     "name": "stderr",
     "output_type": "stream",
     "text": [
      "\r",
      " 65%|██████▌   | 13/20 [00:17<00:10,  1.44s/it]"
     ]
    },
    {
     "name": "stderr",
     "output_type": "stream",
     "text": [
      "\r",
      " 70%|███████   | 14/20 [00:18<00:08,  1.34s/it]"
     ]
    },
    {
     "name": "stderr",
     "output_type": "stream",
     "text": [
      "\r",
      " 75%|███████▌  | 15/20 [00:20<00:07,  1.48s/it]"
     ]
    },
    {
     "name": "stderr",
     "output_type": "stream",
     "text": [
      "\r",
      " 80%|████████  | 16/20 [00:21<00:05,  1.49s/it]"
     ]
    },
    {
     "name": "stderr",
     "output_type": "stream",
     "text": [
      "\r",
      " 85%|████████▌ | 17/20 [00:23<00:04,  1.51s/it]"
     ]
    },
    {
     "name": "stderr",
     "output_type": "stream",
     "text": [
      "\r",
      " 90%|█████████ | 18/20 [00:24<00:03,  1.55s/it]"
     ]
    },
    {
     "name": "stderr",
     "output_type": "stream",
     "text": [
      "\r",
      " 95%|█████████▌| 19/20 [00:25<00:01,  1.35s/it]"
     ]
    },
    {
     "name": "stderr",
     "output_type": "stream",
     "text": [
      "\r",
      "100%|██████████| 20/20 [00:27<00:00,  1.51s/it]"
     ]
    },
    {
     "name": "stderr",
     "output_type": "stream",
     "text": [
      "\r",
      "100%|██████████| 20/20 [00:27<00:00,  1.38s/it]"
     ]
    },
    {
     "name": "stdout",
     "output_type": "stream",
     "text": [
      "Successfully optimized 20 structures\n"
     ]
    },
    {
     "name": "stderr",
     "output_type": "stream",
     "text": [
      "\n"
     ]
    }
   ],
   "source": [
    "relaxed_structures = []\n",
    "print(\"Optimizing candidate structures...\")\n",
    "\n",
    "for atoms in tqdm(crystallizable_cells[:20] if IS_CI else crystallizable_cells):\n",
    "    try:\n",
    "        relaxed, logger = relax_unit_cell(\n",
    "            atoms=atoms, calculator=calculator, max_iter=max_iter, fmax=fmax, verbose=False\n",
    "        )\n",
    "\n",
    "        final_energy = relaxed.get_potential_energy()\n",
    "        energy_per_atom = final_energy / len(relaxed)\n",
    "\n",
    "        relaxed_structures.append((relaxed, energy_per_atom, final_energy))\n",
    "    except Exception as e:\n",
    "        print(f\"Optimization failed: {e}\")\n",
    "        continue\n",
    "\n",
    "print(f\"Successfully optimized {len(relaxed_structures)} structures\")"
   ]
  },
  {
   "cell_type": "markdown",
   "id": "dc8020d7",
   "metadata": {},
   "source": [
    "## Step 5: Construct Convex Hull\n",
    "\n",
    "Determine thermodynamic stability using pymatgen's phase diagram."
   ]
  },
  {
   "cell_type": "code",
   "execution_count": 9,
   "id": "a16eb66f",
   "metadata": {
    "execution": {
     "iopub.execute_input": "2025-10-15T06:44:51.834595Z",
     "iopub.status.busy": "2025-10-15T06:44:51.834339Z",
     "iopub.status.idle": "2025-10-15T06:44:55.184275Z",
     "shell.execute_reply": "2025-10-15T06:44:55.183549Z"
    }
   },
   "outputs": [
    {
     "name": "stdout",
     "output_type": "stream",
     "text": [
      "\n",
      "Computing reference energies...\n"
     ]
    },
    {
     "name": "stdout",
     "output_type": "stream",
     "text": [
      "Ni (FCC): -7.5898 ε/atom\n"
     ]
    },
    {
     "name": "stdout",
     "output_type": "stream",
     "text": [
      "P (FCC): -3.9678 ε/atom\n"
     ]
    },
    {
     "name": "stdout",
     "output_type": "stream",
     "text": [
      "Ni4P (Rocksalt): -0.0487 ε/atom\n",
      " 1. Ni         | E/atom:  -6.2349 ε | E_hull:   1.3549 ε/atom\n",
      " 2. Ni         | E/atom:  -6.0107 ε | E_hull:   1.5791 ε/atom\n",
      " 3. Ni         | E/atom:  -7.5310 ε | E_hull:   0.0588 ε/atom\n",
      " 4. Ni         | E/atom:  -7.5515 ε | E_hull:   0.0383 ε/atom\n",
      " 5. Ni         | E/atom:  -5.2685 ε | E_hull:   2.3213 ε/atom\n",
      " 6. Ni2P       | E/atom:  -4.9320 ε | E_hull:   1.4505 ε/atom\n",
      " 7. Ni4P       | E/atom:  -6.0789 ε | E_hull:   0.7865 ε/atom\n",
      " 8. Ni         | E/atom:  -6.2571 ε | E_hull:   1.3327 ε/atom\n",
      " 9. Ni         | E/atom:  -3.5867 ε | E_hull:   4.0031 ε/atom\n",
      "10. Ni         | E/atom:  -5.8764 ε | E_hull:   1.7134 ε/atom\n",
      "11. Ni         | E/atom:  10.7466 ε | E_hull:  18.3364 ε/atom\n",
      "12. Ni         | E/atom:  -2.9921 ε | E_hull:   4.5977 ε/atom\n",
      "13. Ni         | E/atom:  -6.7571 ε | E_hull:   0.8327 ε/atom\n",
      "14. Ni         | E/atom:  -6.4479 ε | E_hull:   1.1419 ε/atom\n",
      "15. Ni         | E/atom:  -6.8673 ε | E_hull:   0.7225 ε/atom\n",
      "16. Ni         | E/atom:  -5.4651 ε | E_hull:   2.1247 ε/atom\n",
      "17. Ni         | E/atom:   3.4467 ε | E_hull:  11.0365 ε/atom\n",
      "18. Ni         | E/atom:  -4.6192 ε | E_hull:   2.9706 ε/atom\n",
      "19. Ni         | E/atom:  -5.7809 ε | E_hull:   1.8089 ε/atom\n",
      "20. Ni         | E/atom:   2.2377 ε | E_hull:   9.8275 ε/atom\n",
      "\n",
      "Total structures analyzed: 20\n",
      "Total entries in phase diagram: 23\n"
     ]
    },
    {
     "data": {
      "application/vnd.plotly.v1+json": {
       "config": {
        "plotlyServerURL": "https://plot.ly"
       },
       "data": [
        {
         "hoverinfo": "none",
         "line": {
          "color": "black",
          "width": 4.0
         },
         "mode": "lines",
         "showlegend": false,
         "type": "scatter",
         "x": [
          1.0,
          0.0,
          null
         ],
         "y": [
          0.0,
          0.0,
          null
         ]
        },
        {
         "hoverinfo": "skip",
         "mode": "text",
         "name": "Labels (stable)",
         "opacity": 1.0,
         "showlegend": true,
         "text": [],
         "textposition": [],
         "type": "scatter",
         "visible": true,
         "x": [],
         "y": []
        },
        {
         "error_y": {
          "array": [
           0,
           0
          ],
          "color": "gray",
          "thickness": 2.5,
          "type": "data",
          "width": 5
         },
         "hoverinfo": "text",
         "hoverlabel": {
          "font": {
           "size": 14
          }
         },
         "hovertext": [
          "P (no ID) <br>  Formation energy: 0.0 eV/atom <br>  (Stable)",
          "Ni (no ID) <br>  Formation energy: 0.0 eV/atom <br>  (Stable)"
         ],
         "marker": {
          "color": "darkgreen",
          "line": {
           "color": "black",
           "width": 2
          },
          "size": 16
         },
         "mode": "markers",
         "name": "Stable",
         "opacity": 0.99,
         "showlegend": true,
         "type": "scatter",
         "x": [
          1.0,
          0.0
         ],
         "y": [
          0.0,
          0.0
         ]
        },
        {
         "hoverinfo": "text",
         "hoverlabel": {
          "font": {
           "size": 14
          }
         },
         "hovertext": [
          "Ni (no ID) <br>  Formation energy: 1.355 eV/atom <br>  Energy Above Hull: (+1.355 eV/atom)",
          "Ni (no ID) <br>  Formation energy: 1.579 eV/atom <br>  Energy Above Hull: (+1.579 eV/atom)",
          "Ni (no ID) <br>  Formation energy: 0.059 eV/atom <br>  Energy Above Hull: (+0.059 eV/atom)",
          "Ni (no ID) <br>  Formation energy: 0.038 eV/atom <br>  Energy Above Hull: (+0.038 eV/atom)",
          "Ni (no ID) <br>  Formation energy: 2.321 eV/atom <br>  Energy Above Hull: (+2.321 eV/atom)",
          "Ni (no ID) <br>  Formation energy: 1.333 eV/atom <br>  Energy Above Hull: (+1.333 eV/atom)",
          "Ni (no ID) <br>  Formation energy: 4.003 eV/atom <br>  Energy Above Hull: (+4.003 eV/atom)",
          "Ni (no ID) <br>  Formation energy: 1.713 eV/atom <br>  Energy Above Hull: (+1.713 eV/atom)",
          "Ni (no ID) <br>  Formation energy: 18.336 eV/atom <br>  Energy Above Hull: (+18.336 eV/atom)",
          "Ni (no ID) <br>  Formation energy: 4.598 eV/atom <br>  Energy Above Hull: (+4.598 eV/atom)",
          "Ni (no ID) <br>  Formation energy: 0.833 eV/atom <br>  Energy Above Hull: (+0.833 eV/atom)",
          "Ni (no ID) <br>  Formation energy: 1.142 eV/atom <br>  Energy Above Hull: (+1.142 eV/atom)",
          "Ni (no ID) <br>  Formation energy: 0.722 eV/atom <br>  Energy Above Hull: (+0.722 eV/atom)",
          "Ni (no ID) <br>  Formation energy: 2.125 eV/atom <br>  Energy Above Hull: (+2.125 eV/atom)",
          "Ni (no ID) <br>  Formation energy: 11.037 eV/atom <br>  Energy Above Hull: (+11.037 eV/atom)",
          "Ni (no ID) <br>  Formation energy: 2.971 eV/atom <br>  Energy Above Hull: (+2.971 eV/atom)",
          "Ni (no ID) <br>  Formation energy: 1.809 eV/atom <br>  Energy Above Hull: (+1.809 eV/atom)",
          "Ni (no ID) <br>  Formation energy: 9.828 eV/atom <br>  Energy Above Hull: (+9.828 eV/atom)",
          "Ni<sub>2</sub>P (no ID) <br>  Formation energy: 1.45 eV/atom <br>  Energy Above Hull: (+1.45 eV/atom)",
          "Ni<sub>4</sub>P (no ID) <br>  Formation energy: 0.786 eV/atom <br>  Energy Above Hull: (+0.786 eV/atom)",
          "Ni<sub>4</sub>P (no ID) <br>  Formation energy: 6.817 eV/atom <br>  Energy Above Hull: (+6.817 eV/atom)"
         ],
         "marker": {
          "color": [
           1.355,
           1.579,
           0.059,
           0.038,
           2.321,
           1.333,
           4.003,
           1.713,
           18.336,
           4.598,
           0.833,
           1.142,
           0.722,
           2.125,
           11.037,
           2.971,
           1.809,
           9.828,
           1.45,
           0.786,
           6.817
          ],
          "colorscale": [
           [
            0.0,
            "#fff5e3"
           ],
           [
            0.5,
            "#f24324"
           ],
           [
            1.0,
            "#c40000"
           ]
          ],
          "line": {
           "color": "black",
           "width": 1
          },
          "opacity": 0.8,
          "size": 7,
          "symbol": "diamond"
         },
         "mode": "markers",
         "name": "Above Hull",
         "showlegend": true,
         "type": "scatter",
         "x": [
          0.0,
          0.0,
          0.0,
          0.0,
          0.0,
          0.0,
          0.0,
          0.0,
          0.0,
          0.0,
          0.0,
          0.0,
          0.0,
          0.0,
          0.0,
          0.0,
          0.0,
          0.0,
          0.3333333333333333,
          0.2,
          0.2
         ],
         "y": [
          1.3549462660184908,
          1.579135477160984,
          0.058754200904908536,
          0.03834604112905904,
          2.3213128346304965,
          1.3326785001591344,
          4.003089180718626,
          1.7133998647626576,
          18.336415321655963,
          4.597666320791707,
          0.8327151760618925,
          1.141916837241876,
          0.7224781325428502,
          2.124724052546141,
          11.036537928653775,
          2.9706313505542923,
          1.8089301555365143,
          9.827503250720614,
          1.4504745631337688,
          0.7864598735478794,
          6.816690220535219
         ]
        }
       ],
       "layout": {
        "annotations": [
         {
          "align": "center",
          "font": {
           "color": "#000000",
           "size": 24.0
          },
          "opacity": 1.0,
          "showarrow": false,
          "text": "P",
          "x": 1.03,
          "xref": "x",
          "y": -0.03,
          "yref": "y"
         },
         {
          "align": "center",
          "font": {
           "color": "#000000",
           "size": 24.0
          },
          "opacity": 1.0,
          "showarrow": false,
          "text": "Ni",
          "x": -0.03,
          "xref": "x",
          "y": -0.03,
          "yref": "y"
         }
        ],
        "autosize": true,
        "coloraxis": {
         "colorbar": {
          "x": 1,
          "y": 0.05,
          "yanchor": "top"
         }
        },
        "hovermode": "closest",
        "legend": {
         "orientation": "h",
         "tracegroupgap": 7,
         "traceorder": "reversed",
         "x": 0,
         "xanchor": "left",
         "y": 1.05
        },
        "margin": {
         "b": 10,
         "l": 10,
         "pad": 0,
         "r": 10,
         "t": 0
        },
        "paper_bgcolor": "rgba(0,0,0,0)",
        "plot_bgcolor": "rgba(0,0,0,0)",
        "showlegend": true,
        "template": {
         "data": {
          "bar": [
           {
            "error_x": {
             "color": "#2a3f5f"
            },
            "error_y": {
             "color": "#2a3f5f"
            },
            "marker": {
             "line": {
              "color": "#E5ECF6",
              "width": 0.5
             },
             "pattern": {
              "fillmode": "overlay",
              "size": 10,
              "solidity": 0.2
             }
            },
            "type": "bar"
           }
          ],
          "barpolar": [
           {
            "marker": {
             "line": {
              "color": "#E5ECF6",
              "width": 0.5
             },
             "pattern": {
              "fillmode": "overlay",
              "size": 10,
              "solidity": 0.2
             }
            },
            "type": "barpolar"
           }
          ],
          "carpet": [
           {
            "aaxis": {
             "endlinecolor": "#2a3f5f",
             "gridcolor": "white",
             "linecolor": "white",
             "minorgridcolor": "white",
             "startlinecolor": "#2a3f5f"
            },
            "baxis": {
             "endlinecolor": "#2a3f5f",
             "gridcolor": "white",
             "linecolor": "white",
             "minorgridcolor": "white",
             "startlinecolor": "#2a3f5f"
            },
            "type": "carpet"
           }
          ],
          "choropleth": [
           {
            "colorbar": {
             "outlinewidth": 0,
             "ticks": ""
            },
            "type": "choropleth"
           }
          ],
          "contour": [
           {
            "colorbar": {
             "outlinewidth": 0,
             "ticks": ""
            },
            "colorscale": [
             [
              0.0,
              "#0d0887"
             ],
             [
              0.1111111111111111,
              "#46039f"
             ],
             [
              0.2222222222222222,
              "#7201a8"
             ],
             [
              0.3333333333333333,
              "#9c179e"
             ],
             [
              0.4444444444444444,
              "#bd3786"
             ],
             [
              0.5555555555555556,
              "#d8576b"
             ],
             [
              0.6666666666666666,
              "#ed7953"
             ],
             [
              0.7777777777777778,
              "#fb9f3a"
             ],
             [
              0.8888888888888888,
              "#fdca26"
             ],
             [
              1.0,
              "#f0f921"
             ]
            ],
            "type": "contour"
           }
          ],
          "contourcarpet": [
           {
            "colorbar": {
             "outlinewidth": 0,
             "ticks": ""
            },
            "type": "contourcarpet"
           }
          ],
          "heatmap": [
           {
            "colorbar": {
             "outlinewidth": 0,
             "ticks": ""
            },
            "colorscale": [
             [
              0.0,
              "#0d0887"
             ],
             [
              0.1111111111111111,
              "#46039f"
             ],
             [
              0.2222222222222222,
              "#7201a8"
             ],
             [
              0.3333333333333333,
              "#9c179e"
             ],
             [
              0.4444444444444444,
              "#bd3786"
             ],
             [
              0.5555555555555556,
              "#d8576b"
             ],
             [
              0.6666666666666666,
              "#ed7953"
             ],
             [
              0.7777777777777778,
              "#fb9f3a"
             ],
             [
              0.8888888888888888,
              "#fdca26"
             ],
             [
              1.0,
              "#f0f921"
             ]
            ],
            "type": "heatmap"
           }
          ],
          "histogram": [
           {
            "marker": {
             "pattern": {
              "fillmode": "overlay",
              "size": 10,
              "solidity": 0.2
             }
            },
            "type": "histogram"
           }
          ],
          "histogram2d": [
           {
            "colorbar": {
             "outlinewidth": 0,
             "ticks": ""
            },
            "colorscale": [
             [
              0.0,
              "#0d0887"
             ],
             [
              0.1111111111111111,
              "#46039f"
             ],
             [
              0.2222222222222222,
              "#7201a8"
             ],
             [
              0.3333333333333333,
              "#9c179e"
             ],
             [
              0.4444444444444444,
              "#bd3786"
             ],
             [
              0.5555555555555556,
              "#d8576b"
             ],
             [
              0.6666666666666666,
              "#ed7953"
             ],
             [
              0.7777777777777778,
              "#fb9f3a"
             ],
             [
              0.8888888888888888,
              "#fdca26"
             ],
             [
              1.0,
              "#f0f921"
             ]
            ],
            "type": "histogram2d"
           }
          ],
          "histogram2dcontour": [
           {
            "colorbar": {
             "outlinewidth": 0,
             "ticks": ""
            },
            "colorscale": [
             [
              0.0,
              "#0d0887"
             ],
             [
              0.1111111111111111,
              "#46039f"
             ],
             [
              0.2222222222222222,
              "#7201a8"
             ],
             [
              0.3333333333333333,
              "#9c179e"
             ],
             [
              0.4444444444444444,
              "#bd3786"
             ],
             [
              0.5555555555555556,
              "#d8576b"
             ],
             [
              0.6666666666666666,
              "#ed7953"
             ],
             [
              0.7777777777777778,
              "#fb9f3a"
             ],
             [
              0.8888888888888888,
              "#fdca26"
             ],
             [
              1.0,
              "#f0f921"
             ]
            ],
            "type": "histogram2dcontour"
           }
          ],
          "mesh3d": [
           {
            "colorbar": {
             "outlinewidth": 0,
             "ticks": ""
            },
            "type": "mesh3d"
           }
          ],
          "parcoords": [
           {
            "line": {
             "colorbar": {
              "outlinewidth": 0,
              "ticks": ""
             }
            },
            "type": "parcoords"
           }
          ],
          "pie": [
           {
            "automargin": true,
            "type": "pie"
           }
          ],
          "scatter": [
           {
            "fillpattern": {
             "fillmode": "overlay",
             "size": 10,
             "solidity": 0.2
            },
            "type": "scatter"
           }
          ],
          "scatter3d": [
           {
            "line": {
             "colorbar": {
              "outlinewidth": 0,
              "ticks": ""
             }
            },
            "marker": {
             "colorbar": {
              "outlinewidth": 0,
              "ticks": ""
             }
            },
            "type": "scatter3d"
           }
          ],
          "scattercarpet": [
           {
            "marker": {
             "colorbar": {
              "outlinewidth": 0,
              "ticks": ""
             }
            },
            "type": "scattercarpet"
           }
          ],
          "scattergeo": [
           {
            "marker": {
             "colorbar": {
              "outlinewidth": 0,
              "ticks": ""
             }
            },
            "type": "scattergeo"
           }
          ],
          "scattergl": [
           {
            "marker": {
             "colorbar": {
              "outlinewidth": 0,
              "ticks": ""
             }
            },
            "type": "scattergl"
           }
          ],
          "scattermap": [
           {
            "marker": {
             "colorbar": {
              "outlinewidth": 0,
              "ticks": ""
             }
            },
            "type": "scattermap"
           }
          ],
          "scattermapbox": [
           {
            "marker": {
             "colorbar": {
              "outlinewidth": 0,
              "ticks": ""
             }
            },
            "type": "scattermapbox"
           }
          ],
          "scatterpolar": [
           {
            "marker": {
             "colorbar": {
              "outlinewidth": 0,
              "ticks": ""
             }
            },
            "type": "scatterpolar"
           }
          ],
          "scatterpolargl": [
           {
            "marker": {
             "colorbar": {
              "outlinewidth": 0,
              "ticks": ""
             }
            },
            "type": "scatterpolargl"
           }
          ],
          "scatterternary": [
           {
            "marker": {
             "colorbar": {
              "outlinewidth": 0,
              "ticks": ""
             }
            },
            "type": "scatterternary"
           }
          ],
          "surface": [
           {
            "colorbar": {
             "outlinewidth": 0,
             "ticks": ""
            },
            "colorscale": [
             [
              0.0,
              "#0d0887"
             ],
             [
              0.1111111111111111,
              "#46039f"
             ],
             [
              0.2222222222222222,
              "#7201a8"
             ],
             [
              0.3333333333333333,
              "#9c179e"
             ],
             [
              0.4444444444444444,
              "#bd3786"
             ],
             [
              0.5555555555555556,
              "#d8576b"
             ],
             [
              0.6666666666666666,
              "#ed7953"
             ],
             [
              0.7777777777777778,
              "#fb9f3a"
             ],
             [
              0.8888888888888888,
              "#fdca26"
             ],
             [
              1.0,
              "#f0f921"
             ]
            ],
            "type": "surface"
           }
          ],
          "table": [
           {
            "cells": {
             "fill": {
              "color": "#EBF0F8"
             },
             "line": {
              "color": "white"
             }
            },
            "header": {
             "fill": {
              "color": "#C8D4E3"
             },
             "line": {
              "color": "white"
             }
            },
            "type": "table"
           }
          ]
         },
         "layout": {
          "annotationdefaults": {
           "arrowcolor": "#2a3f5f",
           "arrowhead": 0,
           "arrowwidth": 1
          },
          "autotypenumbers": "strict",
          "coloraxis": {
           "colorbar": {
            "outlinewidth": 0,
            "ticks": ""
           }
          },
          "colorscale": {
           "diverging": [
            [
             0,
             "#8e0152"
            ],
            [
             0.1,
             "#c51b7d"
            ],
            [
             0.2,
             "#de77ae"
            ],
            [
             0.3,
             "#f1b6da"
            ],
            [
             0.4,
             "#fde0ef"
            ],
            [
             0.5,
             "#f7f7f7"
            ],
            [
             0.6,
             "#e6f5d0"
            ],
            [
             0.7,
             "#b8e186"
            ],
            [
             0.8,
             "#7fbc41"
            ],
            [
             0.9,
             "#4d9221"
            ],
            [
             1,
             "#276419"
            ]
           ],
           "sequential": [
            [
             0.0,
             "#0d0887"
            ],
            [
             0.1111111111111111,
             "#46039f"
            ],
            [
             0.2222222222222222,
             "#7201a8"
            ],
            [
             0.3333333333333333,
             "#9c179e"
            ],
            [
             0.4444444444444444,
             "#bd3786"
            ],
            [
             0.5555555555555556,
             "#d8576b"
            ],
            [
             0.6666666666666666,
             "#ed7953"
            ],
            [
             0.7777777777777778,
             "#fb9f3a"
            ],
            [
             0.8888888888888888,
             "#fdca26"
            ],
            [
             1.0,
             "#f0f921"
            ]
           ],
           "sequentialminus": [
            [
             0.0,
             "#0d0887"
            ],
            [
             0.1111111111111111,
             "#46039f"
            ],
            [
             0.2222222222222222,
             "#7201a8"
            ],
            [
             0.3333333333333333,
             "#9c179e"
            ],
            [
             0.4444444444444444,
             "#bd3786"
            ],
            [
             0.5555555555555556,
             "#d8576b"
            ],
            [
             0.6666666666666666,
             "#ed7953"
            ],
            [
             0.7777777777777778,
             "#fb9f3a"
            ],
            [
             0.8888888888888888,
             "#fdca26"
            ],
            [
             1.0,
             "#f0f921"
            ]
           ]
          },
          "colorway": [
           "#636efa",
           "#EF553B",
           "#00cc96",
           "#ab63fa",
           "#FFA15A",
           "#19d3f3",
           "#FF6692",
           "#B6E880",
           "#FF97FF",
           "#FECB52"
          ],
          "font": {
           "color": "#2a3f5f"
          },
          "geo": {
           "bgcolor": "white",
           "lakecolor": "white",
           "landcolor": "#E5ECF6",
           "showlakes": true,
           "showland": true,
           "subunitcolor": "white"
          },
          "hoverlabel": {
           "align": "left"
          },
          "hovermode": "closest",
          "mapbox": {
           "style": "light"
          },
          "paper_bgcolor": "white",
          "plot_bgcolor": "#E5ECF6",
          "polar": {
           "angularaxis": {
            "gridcolor": "white",
            "linecolor": "white",
            "ticks": ""
           },
           "bgcolor": "#E5ECF6",
           "radialaxis": {
            "gridcolor": "white",
            "linecolor": "white",
            "ticks": ""
           }
          },
          "scene": {
           "xaxis": {
            "backgroundcolor": "#E5ECF6",
            "gridcolor": "white",
            "gridwidth": 2,
            "linecolor": "white",
            "showbackground": true,
            "ticks": "",
            "zerolinecolor": "white"
           },
           "yaxis": {
            "backgroundcolor": "#E5ECF6",
            "gridcolor": "white",
            "gridwidth": 2,
            "linecolor": "white",
            "showbackground": true,
            "ticks": "",
            "zerolinecolor": "white"
           },
           "zaxis": {
            "backgroundcolor": "#E5ECF6",
            "gridcolor": "white",
            "gridwidth": 2,
            "linecolor": "white",
            "showbackground": true,
            "ticks": "",
            "zerolinecolor": "white"
           }
          },
          "shapedefaults": {
           "line": {
            "color": "#2a3f5f"
           }
          },
          "ternary": {
           "aaxis": {
            "gridcolor": "white",
            "linecolor": "white",
            "ticks": ""
           },
           "baxis": {
            "gridcolor": "white",
            "linecolor": "white",
            "ticks": ""
           },
           "bgcolor": "#E5ECF6",
           "caxis": {
            "gridcolor": "white",
            "linecolor": "white",
            "ticks": ""
           }
          },
          "title": {
           "x": 0.05
          },
          "xaxis": {
           "automargin": true,
           "gridcolor": "white",
           "linecolor": "white",
           "ticks": "",
           "title": {
            "standoff": 15
           },
           "zerolinecolor": "white",
           "zerolinewidth": 2
          },
          "yaxis": {
           "automargin": true,
           "gridcolor": "white",
           "linecolor": "white",
           "ticks": "",
           "title": {
            "standoff": 15
           },
           "zerolinecolor": "white",
           "zerolinewidth": 2
          }
         }
        },
        "xaxis": {
         "anchor": "y",
         "gridcolor": "rgba(0,0,0,0.1)",
         "mirror": "ticks",
         "nticks": 8,
         "showgrid": true,
         "showline": true,
         "side": "bottom",
         "tickfont": {
          "size": 16.0
         },
         "ticks": "inside",
         "title": {
          "font": {
           "color": "#000000",
           "size": 20.0
          },
          "text": "Composition (Fraction P)"
         },
         "type": "linear",
         "zeroline": false
        },
        "yaxis": {
         "anchor": "x",
         "gridcolor": "rgba(0,0,0,0.1)",
         "mirror": "ticks",
         "showgrid": true,
         "showline": true,
         "side": "left",
         "tickfont": {
          "size": 16.0
         },
         "ticks": "inside",
         "title": {
          "font": {
           "color": "#000000",
           "size": 20.0
          },
          "text": "Formation energy (eV/atom)"
         },
         "type": "linear"
        }
       }
      }
     },
     "metadata": {},
     "output_type": "display_data"
    }
   ],
   "source": [
    "# Build convex hull with proper composition handling\n",
    "entries = []\n",
    "for atoms, _, total_e in relaxed_structures:\n",
    "    # Get composition from symbol counts (more explicit and correct)\n",
    "    symbol_counts = Counter(atoms.get_chemical_symbols())\n",
    "    comp_obj = Composition(symbol_counts)  # e.g., {'Ni': 2, 'P': 1} -> Ni2P\n",
    "    entries.append(PDEntry(comp_obj, total_e))\n",
    "\n",
    "# Compute reference energies using proper crystal structures\n",
    "print(\"\\nComputing reference energies...\")\n",
    "\n",
    "# Pure Ni: FCC structure\n",
    "ni_fcc = bulk(\"Ni\", \"fcc\", a=1.5)\n",
    "ni_relaxed, _ = relax_unit_cell(ni_fcc, calculator, max_iter=max_iter, fmax=fmax, verbose=False)\n",
    "e_ni_total = ni_relaxed.get_potential_energy()\n",
    "print(f\"Ni (FCC): {e_ni_total / len(ni_relaxed):.4f} ε/atom\")\n",
    "\n",
    "# Pure P: FCC structure\n",
    "p_fcc = bulk(\"P\", \"fcc\", a=1.3)\n",
    "p_relaxed, _ = relax_unit_cell(p_fcc, calculator, max_iter=max_iter, fmax=fmax, verbose=False)\n",
    "e_p_total = p_relaxed.get_potential_energy()\n",
    "print(f\"P (FCC): {e_p_total / len(p_relaxed):.4f} ε/atom\")\n",
    "\n",
    "# Ni4P structure\n",
    "alat = 4.0\n",
    "ni4p = Atoms(\n",
    "    \"Ni4P\",\n",
    "    positions=[\n",
    "        [0.0, 0.0, 0.0],\n",
    "        [0.0, alat / 2, alat / 2],\n",
    "        [alat / 2, 0.0, alat / 2],\n",
    "        [alat / 2, alat / 2, 0.0],\n",
    "        [alat / 2, alat / 2, alat / 2],\n",
    "    ],\n",
    "    cell=[alat, alat, alat],\n",
    "    pbc=True,\n",
    ")\n",
    "ni4p_relaxed, _ = relax_unit_cell(ni4p, calculator, max_iter=max_iter, fmax=fmax, verbose=False)\n",
    "e_ni4p_total = ni4p_relaxed.get_potential_energy()\n",
    "print(f\"Ni4P (Rocksalt): {e_ni4p_total / len(ni4p_relaxed):.4f} ε/atom\")\n",
    "\n",
    "# Add references with TOTAL energies\n",
    "entries.extend(\n",
    "    [\n",
    "        PDEntry(Composition(\"Ni\"), e_ni_total),\n",
    "        PDEntry(Composition(\"P\"), e_p_total),\n",
    "        PDEntry(Composition(\"Ni4P\"), e_ni4p_total),\n",
    "    ]\n",
    ")\n",
    "pd = PhaseDiagram(entries)\n",
    "\n",
    "for i, (atoms, e_per_atom, total_e) in enumerate(relaxed_structures):\n",
    "    symbol_counts = Counter(atoms.get_chemical_symbols())\n",
    "    comp_obj = Composition(symbol_counts)\n",
    "    entry = PDEntry(comp_obj, total_e)\n",
    "    e_above_hull = pd.get_e_above_hull(entry)\n",
    "\n",
    "    print(\n",
    "        f\"{i + 1:2d}. {comp_obj.reduced_formula:10s} | \"\n",
    "        f\"E/atom: {e_per_atom:8.4f} ε | \"\n",
    "        f\"E_hull: {e_above_hull:8.4f} ε/atom\"\n",
    "    )\n",
    "\n",
    "print(f\"\\nTotal structures analyzed: {len(relaxed_structures)}\")\n",
    "print(f\"Total entries in phase diagram: {len(entries)}\")\n",
    "\n",
    "# Plot and save phase diagram\n",
    "plotter = PDPlotter(pd, show_unstable=1000.0, backend=\"plotly\")  # Very large value to show all\n",
    "plotter.get_plot()\n",
    "plotter.show()"
   ]
  }
 ],
 "metadata": {
  "jupytext": {
   "cell_metadata_filter": "-all"
  },
  "kernelspec": {
   "display_name": "Python 3 (ipykernel)",
   "language": "python",
   "name": "python3"
  },
  "language_info": {
   "codemirror_mode": {
    "name": "ipython",
    "version": 3
   },
   "file_extension": ".py",
   "mimetype": "text/x-python",
   "name": "python",
   "nbconvert_exporter": "python",
   "pygments_lexer": "ipython3",
   "version": "3.10.18"
  }
 },
 "nbformat": 4,
 "nbformat_minor": 5
}
