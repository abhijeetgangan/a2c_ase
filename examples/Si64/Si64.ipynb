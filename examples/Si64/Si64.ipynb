{
 "cells": [
  {
   "cell_type": "markdown",
   "id": "b0c1d35e",
   "metadata": {},
   "source": [
    "<details>\n",
    "  <summary>Dependencies</summary>\n",
    "/// script\n",
    "requires-python = \">=3.10\"\n",
    "dependencies = [\n",
    "    \"a2c-ase @ git+https://github.com/abhijeetgangan/a2c_ase.git\",\n",
    "    \"numpy\",\n",
    "    \"pymatgen\",\n",
    "    \"tqdm\",\n",
    "    \"mace-torch\",\n",
    "]\n",
    "///\n",
    "</details>"
   ]
  },
  {
   "cell_type": "markdown",
   "id": "e9a4c361",
   "metadata": {
    "lines_to_next_cell": 2
   },
   "source": [
    "Silicon Crystallization Example\n",
    "\n",
    "This example demonstrates the complete a2c workflow for predicting the crystal structure\n",
    "of silicon from an amorphous precursor using the MACE machine learning potential."
   ]
  },
  {
   "cell_type": "markdown",
   "id": "c191e648",
   "metadata": {},
   "source": [
    "## Setup and Imports\n",
    "\n",
    "We'll use MACE for accurate energy and force calculations."
   ]
  },
  {
   "cell_type": "code",
   "execution_count": 1,
   "id": "6ae8c0fd",
   "metadata": {
    "execution": {
     "iopub.execute_input": "2025-10-15T06:43:37.042152Z",
     "iopub.status.busy": "2025-10-15T06:43:37.041951Z",
     "iopub.status.idle": "2025-10-15T06:43:44.982110Z",
     "shell.execute_reply": "2025-10-15T06:43:44.981318Z"
    }
   },
   "outputs": [
    {
     "name": "stderr",
     "output_type": "stream",
     "text": [
      "/opt/hostedtoolcache/Python/3.10.18/x64/lib/python3.10/site-packages/e3nn/o3/_wigner.py:10: UserWarning: Environment variable TORCH_FORCE_NO_WEIGHTS_ONLY_LOAD detected, since the`weights_only` argument was not explicitly passed to `torch.load`, forcing weights_only=False.\n",
      "  _Jd, _W3j_flat, _W3j_indices = torch.load(os.path.join(os.path.dirname(__file__), 'constants.pt'))\n"
     ]
    },
    {
     "name": "stdout",
     "output_type": "stream",
     "text": [
      "cuequivariance or cuequivariance_torch is not available. Cuequivariance acceleration will be disabled.\n"
     ]
    }
   ],
   "source": [
    "import os\n",
    "from collections import defaultdict\n",
    "\n",
    "import numpy as np\n",
    "from ase.build import bulk\n",
    "from mace.calculators.foundations_models import mace_mp  # type: ignore\n",
    "from pymatgen.analysis.structure_analyzer import SpacegroupAnalyzer\n",
    "from pymatgen.analysis.structure_matcher import StructureMatcher\n",
    "from pymatgen.core.composition import Composition\n",
    "from pymatgen.core.structure import Structure\n",
    "from tqdm import tqdm\n",
    "\n",
    "from a2c_ase.runner import melt_quench_md, relax_unit_cell\n",
    "from a2c_ase.utils import extract_crystallizable_subcells, random_packed_structure"
   ]
  },
  {
   "cell_type": "markdown",
   "id": "09466474",
   "metadata": {},
   "source": [
    "## Configuration\n",
    "\n",
    "Define the system (Si64) and simulation parameters.\n",
    "In CI mode, we use reduced parameters for faster testing."
   ]
  },
  {
   "cell_type": "code",
   "execution_count": 2,
   "id": "9460d95d",
   "metadata": {
    "execution": {
     "iopub.execute_input": "2025-10-15T06:43:44.984851Z",
     "iopub.status.busy": "2025-10-15T06:43:44.984425Z",
     "iopub.status.idle": "2025-10-15T06:43:44.990312Z",
     "shell.execute_reply": "2025-10-15T06:43:44.989737Z"
    }
   },
   "outputs": [
    {
     "name": "stdout",
     "output_type": "stream",
     "text": [
      "Running in CI mode with reduced parameters for fast testing\n"
     ]
    }
   ],
   "source": [
    "IS_CI = os.getenv(\"CI\") is not None\n",
    "\n",
    "comp = Composition(\"Si64\")\n",
    "cell = np.array([[11.1, 0.0, 0.0], [0.0, 11.1, 0.0], [0.0, 0.0, 11.1]])\n",
    "\n",
    "# Optimization parameters\n",
    "global_seed = 42\n",
    "fmax = 0.01  # Force convergence criterion in eV/Å\n",
    "max_iter = 2 if IS_CI else 100\n",
    "\n",
    "# Molecular dynamics parameters\n",
    "md_log_interval = 50\n",
    "md_equi_steps = 10 if IS_CI else 2500  # High temperature equilibration steps\n",
    "md_cool_steps = 10 if IS_CI else 2500  # Cooling steps\n",
    "md_final_steps = 10 if IS_CI else 2500  # Low temperature equilibration steps\n",
    "md_T_high = 2000.0  # Initial melting temperature (K)\n",
    "md_T_low = 300.0  # Final temperature (K)\n",
    "md_time_step = 2.0  # fs\n",
    "md_friction = 0.01  # Langevin friction\n",
    "\n",
    "if IS_CI:\n",
    "    print(\"Running in CI mode with reduced parameters for fast testing\")"
   ]
  },
  {
   "cell_type": "markdown",
   "id": "e9c537cd",
   "metadata": {},
   "source": [
    "## Step 1: Initialize MACE Calculator\n",
    "\n",
    "MACE is a state-of-the-art machine learning potential trained on diverse materials data."
   ]
  },
  {
   "cell_type": "code",
   "execution_count": 3,
   "id": "e52d095f",
   "metadata": {
    "execution": {
     "iopub.execute_input": "2025-10-15T06:43:44.992153Z",
     "iopub.status.busy": "2025-10-15T06:43:44.991959Z",
     "iopub.status.idle": "2025-10-15T06:43:46.038005Z",
     "shell.execute_reply": "2025-10-15T06:43:46.037203Z"
    }
   },
   "outputs": [
    {
     "name": "stdout",
     "output_type": "stream",
     "text": [
      "Using model under Academic Software License (ASL) license, see https://github.com/gabor1/ASL \n",
      " To use this model you accept the terms of the license.\n",
      "Downloading MACE model from 'https://github.com/ACEsuit/mace-mp/releases/download/mace_omat_0/mace-omat-0-small.model'\n"
     ]
    },
    {
     "name": "stdout",
     "output_type": "stream",
     "text": [
      "Cached MACE model to /home/runner/.cache/mace/maceomat0smallmodel\n",
      "Using Materials Project MACE for MACECalculator with /home/runner/.cache/mace/maceomat0smallmodel\n",
      "Using float32 for MACECalculator, which is faster but less accurate. Recommended for MD. Use float64 for geometry optimization.\n",
      "Using head omat_pbe out of ['omat_pbe']\n",
      "Default dtype float32 does not match model dtype float64, converting models to float32.\n"
     ]
    },
    {
     "name": "stderr",
     "output_type": "stream",
     "text": [
      "/opt/hostedtoolcache/Python/3.10.18/x64/lib/python3.10/site-packages/mace/calculators/mace.py:197: UserWarning: Environment variable TORCH_FORCE_NO_WEIGHTS_ONLY_LOAD detected, since the`weights_only` argument was not explicitly passed to `torch.load`, forcing weights_only=False.\n",
      "  torch.load(f=model_path, map_location=device)\n"
     ]
    }
   ],
   "source": [
    "device = \"cpu\" if IS_CI else \"cuda\"\n",
    "calculator = mace_mp(model=\"small-omat-0\", device=device, dtype=\"float32\")"
   ]
  },
  {
   "cell_type": "markdown",
   "id": "266597b6",
   "metadata": {},
   "source": [
    "## Step 2: Generate Random Packed Structure\n",
    "\n",
    "Create an initial random configuration with no severe atomic overlaps."
   ]
  },
  {
   "cell_type": "code",
   "execution_count": 4,
   "id": "b3aaecfa",
   "metadata": {
    "execution": {
     "iopub.execute_input": "2025-10-15T06:43:46.040297Z",
     "iopub.status.busy": "2025-10-15T06:43:46.040044Z",
     "iopub.status.idle": "2025-10-15T06:43:46.081771Z",
     "shell.execute_reply": "2025-10-15T06:43:46.080723Z"
    }
   },
   "outputs": [
    {
     "name": "stdout",
     "output_type": "stream",
     "text": [
      "Using random pack diameter of 2.2\n",
      "Reduce atom overlap using the soft_sphere potential\n",
      "Initial energy: 2.6981\n",
      "Step: 0, E: 2.6981, Fmax: 0.4073, Min dist: 0.6425\n",
      "Step: 1, E: 2.6761, Fmax: 0.4043, Min dist: 0.6490\n",
      "Step: 2, E: 2.6326, Fmax: 0.3984, Min dist: 0.6618\n",
      "Final energy: 2.6326\n",
      "Soft sphere packed structure is ready Atoms(symbols='Si64', pbc=True, cell=[11.1, 11.1, 11.1], calculator=SoftSphere(...))\n"
     ]
    }
   ],
   "source": [
    "packed_atoms, log_data = random_packed_structure(\n",
    "    composition=comp,\n",
    "    cell=cell,\n",
    "    seed=global_seed,\n",
    "    fmax=fmax,\n",
    "    max_iter=max_iter,\n",
    "    verbose=True,\n",
    "    auto_diameter=True,\n",
    "    trajectory_file=None,\n",
    ")\n",
    "print(f\"Soft sphere packed structure is ready {packed_atoms}\")"
   ]
  },
  {
   "cell_type": "markdown",
   "id": "67f83d49",
   "metadata": {},
   "source": [
    "## Step 3: Melt-Quench MD Simulation\n",
    "\n",
    "Heat to 2000K, quench to 300K to create an amorphous structure."
   ]
  },
  {
   "cell_type": "code",
   "execution_count": 5,
   "id": "eb685f9d",
   "metadata": {
    "execution": {
     "iopub.execute_input": "2025-10-15T06:43:46.084310Z",
     "iopub.status.busy": "2025-10-15T06:43:46.084061Z",
     "iopub.status.idle": "2025-10-15T06:43:52.978996Z",
     "shell.execute_reply": "2025-10-15T06:43:52.978263Z"
    }
   },
   "outputs": [
    {
     "name": "stdout",
     "output_type": "stream",
     "text": [
      "Step 0/30: T = 2000.0 K, E_pot = 630.546 eV, E_kin = 16.545 eV\n"
     ]
    },
    {
     "name": "stdout",
     "output_type": "stream",
     "text": [
      "\n",
      "Melt-quench simulation completed:\n",
      "Final temperature: 83754.3 K\n",
      "Final energy: -182.198 eV\n",
      "Final amorphous structure is ready Atoms(symbols='Si64', pbc=True, cell=[11.1, 11.1, 11.1], momenta=..., calculator=MACECalculator(...))\n"
     ]
    }
   ],
   "source": [
    "amorphous_atoms, md_log = melt_quench_md(\n",
    "    atoms=packed_atoms,\n",
    "    calculator=calculator,\n",
    "    equi_steps=md_equi_steps,\n",
    "    cool_steps=md_cool_steps,\n",
    "    final_steps=md_final_steps,\n",
    "    T_high=md_T_high,\n",
    "    T_low=md_T_low,\n",
    "    time_step=md_time_step,\n",
    "    friction=md_friction,\n",
    "    trajectory_file=None,\n",
    "    seed=global_seed,\n",
    "    verbose=True,\n",
    "    log_interval=md_log_interval,\n",
    ")\n",
    "print(f\"Final amorphous structure is ready {amorphous_atoms}\")"
   ]
  },
  {
   "cell_type": "markdown",
   "id": "41103df4",
   "metadata": {},
   "source": [
    "## Step 4: Extract Crystallizable Subcells\n",
    "\n",
    "Divide the amorphous structure into overlapping subcells."
   ]
  },
  {
   "cell_type": "code",
   "execution_count": 6,
   "id": "ac0e35bd",
   "metadata": {
    "execution": {
     "iopub.execute_input": "2025-10-15T06:43:52.981023Z",
     "iopub.status.busy": "2025-10-15T06:43:52.980786Z",
     "iopub.status.idle": "2025-10-15T06:43:53.175608Z",
     "shell.execute_reply": "2025-10-15T06:43:53.174978Z"
    }
   },
   "outputs": [
    {
     "name": "stdout",
     "output_type": "stream",
     "text": [
      "Created 1915 subcells from amorphous structure\n",
      "Subcells kept after filtering: 39\n",
      "Generated 39 candidate structures for crystallization\n"
     ]
    }
   ],
   "source": [
    "crystallizable_cells = extract_crystallizable_subcells(\n",
    "    atoms=amorphous_atoms,\n",
    "    d_frac=0.2,  # Size of subcell as fraction of original cell\n",
    "    n_min=2,  # Min atoms per subcell\n",
    "    n_max=8,  # Max atoms per subcell\n",
    "    cubic_only=True,\n",
    "    allowed_atom_counts=[2, 4, 8],\n",
    ")\n",
    "print(f\"Generated {len(crystallizable_cells)} candidate structures for crystallization\")"
   ]
  },
  {
   "cell_type": "markdown",
   "id": "915db71e",
   "metadata": {},
   "source": [
    "## Step 5: Optimize Subcells\n",
    "\n",
    "Relax each subcell to find stable crystalline structures."
   ]
  },
  {
   "cell_type": "code",
   "execution_count": 7,
   "id": "140c2695",
   "metadata": {
    "execution": {
     "iopub.execute_input": "2025-10-15T06:43:53.177668Z",
     "iopub.status.busy": "2025-10-15T06:43:53.177450Z",
     "iopub.status.idle": "2025-10-15T06:44:12.125993Z",
     "shell.execute_reply": "2025-10-15T06:44:12.124950Z"
    }
   },
   "outputs": [
    {
     "name": "stdout",
     "output_type": "stream",
     "text": [
      "Relaxing candidate structures...\n"
     ]
    },
    {
     "name": "stderr",
     "output_type": "stream",
     "text": [
      "\r",
      "  0%|          | 0/39 [00:00<?, ?it/s]"
     ]
    },
    {
     "name": "stderr",
     "output_type": "stream",
     "text": [
      "\r",
      "  3%|▎         | 1/39 [00:00<00:17,  2.16it/s]"
     ]
    },
    {
     "name": "stderr",
     "output_type": "stream",
     "text": [
      "\r",
      "  5%|▌         | 2/39 [00:00<00:18,  1.99it/s]"
     ]
    },
    {
     "name": "stderr",
     "output_type": "stream",
     "text": [
      "\r",
      "  8%|▊         | 3/39 [00:01<00:17,  2.06it/s]"
     ]
    },
    {
     "name": "stderr",
     "output_type": "stream",
     "text": [
      "\r",
      " 10%|█         | 4/39 [00:01<00:16,  2.07it/s]"
     ]
    },
    {
     "name": "stderr",
     "output_type": "stream",
     "text": [
      "\r",
      " 13%|█▎        | 5/39 [00:02<00:15,  2.19it/s]"
     ]
    },
    {
     "name": "stderr",
     "output_type": "stream",
     "text": [
      "\r",
      " 15%|█▌        | 6/39 [00:02<00:14,  2.24it/s]"
     ]
    },
    {
     "name": "stderr",
     "output_type": "stream",
     "text": [
      "\r",
      " 18%|█▊        | 7/39 [00:03<00:16,  1.97it/s]"
     ]
    },
    {
     "name": "stderr",
     "output_type": "stream",
     "text": [
      "\r",
      " 21%|██        | 8/39 [00:04<00:18,  1.64it/s]"
     ]
    },
    {
     "name": "stderr",
     "output_type": "stream",
     "text": [
      "\r",
      " 23%|██▎       | 9/39 [00:04<00:16,  1.86it/s]"
     ]
    },
    {
     "name": "stderr",
     "output_type": "stream",
     "text": [
      "\r",
      " 26%|██▌       | 10/39 [00:05<00:17,  1.66it/s]"
     ]
    },
    {
     "name": "stderr",
     "output_type": "stream",
     "text": [
      "\r",
      " 28%|██▊       | 11/39 [00:05<00:15,  1.77it/s]"
     ]
    },
    {
     "name": "stderr",
     "output_type": "stream",
     "text": [
      "\r",
      " 31%|███       | 12/39 [00:06<00:13,  2.01it/s]"
     ]
    },
    {
     "name": "stderr",
     "output_type": "stream",
     "text": [
      "\r",
      " 33%|███▎      | 13/39 [00:06<00:12,  2.12it/s]"
     ]
    },
    {
     "name": "stderr",
     "output_type": "stream",
     "text": [
      "\r",
      " 36%|███▌      | 14/39 [00:07<00:13,  1.91it/s]"
     ]
    },
    {
     "name": "stderr",
     "output_type": "stream",
     "text": [
      "\r",
      " 38%|███▊      | 15/39 [00:07<00:11,  2.00it/s]"
     ]
    },
    {
     "name": "stderr",
     "output_type": "stream",
     "text": [
      "\r",
      " 41%|████      | 16/39 [00:08<00:11,  1.96it/s]"
     ]
    },
    {
     "name": "stderr",
     "output_type": "stream",
     "text": [
      "\r",
      " 44%|████▎     | 17/39 [00:08<00:11,  1.98it/s]"
     ]
    },
    {
     "name": "stderr",
     "output_type": "stream",
     "text": [
      "\r",
      " 46%|████▌     | 18/39 [00:09<00:11,  1.90it/s]"
     ]
    },
    {
     "name": "stderr",
     "output_type": "stream",
     "text": [
      "\r",
      " 49%|████▊     | 19/39 [00:09<00:09,  2.02it/s]"
     ]
    },
    {
     "name": "stderr",
     "output_type": "stream",
     "text": [
      "\r",
      " 51%|█████▏    | 20/39 [00:10<00:08,  2.30it/s]"
     ]
    },
    {
     "name": "stderr",
     "output_type": "stream",
     "text": [
      "\r",
      " 54%|█████▍    | 21/39 [00:10<00:08,  2.10it/s]"
     ]
    },
    {
     "name": "stderr",
     "output_type": "stream",
     "text": [
      "\r",
      " 56%|█████▋    | 22/39 [00:11<00:08,  2.02it/s]"
     ]
    },
    {
     "name": "stderr",
     "output_type": "stream",
     "text": [
      "\r",
      " 59%|█████▉    | 23/39 [00:11<00:07,  2.12it/s]"
     ]
    },
    {
     "name": "stderr",
     "output_type": "stream",
     "text": [
      "\r",
      " 62%|██████▏   | 24/39 [00:12<00:07,  1.89it/s]"
     ]
    },
    {
     "name": "stderr",
     "output_type": "stream",
     "text": [
      "\r",
      " 64%|██████▍   | 25/39 [00:12<00:06,  2.05it/s]"
     ]
    },
    {
     "name": "stderr",
     "output_type": "stream",
     "text": [
      "\r",
      " 67%|██████▋   | 26/39 [00:12<00:05,  2.21it/s]"
     ]
    },
    {
     "name": "stderr",
     "output_type": "stream",
     "text": [
      "\r",
      " 69%|██████▉   | 27/39 [00:13<00:05,  2.27it/s]"
     ]
    },
    {
     "name": "stderr",
     "output_type": "stream",
     "text": [
      "\r",
      " 72%|███████▏  | 28/39 [00:13<00:05,  2.03it/s]"
     ]
    },
    {
     "name": "stderr",
     "output_type": "stream",
     "text": [
      "\r",
      " 74%|███████▍  | 29/39 [00:14<00:05,  1.88it/s]"
     ]
    },
    {
     "name": "stderr",
     "output_type": "stream",
     "text": [
      "\r",
      " 77%|███████▋  | 30/39 [00:15<00:05,  1.73it/s]"
     ]
    },
    {
     "name": "stderr",
     "output_type": "stream",
     "text": [
      "\r",
      " 79%|███████▉  | 31/39 [00:15<00:04,  1.87it/s]"
     ]
    },
    {
     "name": "stderr",
     "output_type": "stream",
     "text": [
      "\r",
      " 82%|████████▏ | 32/39 [00:16<00:03,  2.09it/s]"
     ]
    },
    {
     "name": "stderr",
     "output_type": "stream",
     "text": [
      "\r",
      " 85%|████████▍ | 33/39 [00:16<00:02,  2.29it/s]"
     ]
    },
    {
     "name": "stderr",
     "output_type": "stream",
     "text": [
      "\r",
      " 87%|████████▋ | 34/39 [00:16<00:02,  2.23it/s]"
     ]
    },
    {
     "name": "stderr",
     "output_type": "stream",
     "text": [
      "\r",
      " 90%|████████▉ | 35/39 [00:17<00:01,  2.47it/s]"
     ]
    },
    {
     "name": "stderr",
     "output_type": "stream",
     "text": [
      "\r",
      " 92%|█████████▏| 36/39 [00:17<00:01,  2.63it/s]"
     ]
    },
    {
     "name": "stderr",
     "output_type": "stream",
     "text": [
      "\r",
      " 95%|█████████▍| 37/39 [00:17<00:00,  2.48it/s]"
     ]
    },
    {
     "name": "stderr",
     "output_type": "stream",
     "text": [
      "\r",
      " 97%|█████████▋| 38/39 [00:18<00:00,  2.48it/s]"
     ]
    },
    {
     "name": "stderr",
     "output_type": "stream",
     "text": [
      "\r",
      "100%|██████████| 39/39 [00:18<00:00,  2.24it/s]"
     ]
    },
    {
     "name": "stderr",
     "output_type": "stream",
     "text": [
      "\r",
      "100%|██████████| 39/39 [00:18<00:00,  2.06it/s]"
     ]
    },
    {
     "name": "stderr",
     "output_type": "stream",
     "text": [
      "\n"
     ]
    }
   ],
   "source": [
    "relaxed_atoms_list = []\n",
    "print(\"Relaxing candidate structures...\")\n",
    "for atoms in tqdm(crystallizable_cells):\n",
    "    # Relax the structure\n",
    "    relaxed_atoms, logger = relax_unit_cell(\n",
    "        atoms=atoms, calculator=calculator, max_iter=max_iter, fmax=fmax, verbose=False\n",
    "    )\n",
    "\n",
    "    # Get final energy and pressure\n",
    "    final_energy = relaxed_atoms.get_potential_energy()\n",
    "    final_pressure = -np.trace(relaxed_atoms.get_stress(voigt=False)) / 3.0\n",
    "\n",
    "    # Store the relaxed structure and its properties\n",
    "    relaxed_atoms_list.append((relaxed_atoms, logger, final_energy, final_pressure))"
   ]
  },
  {
   "cell_type": "markdown",
   "id": "a45aa142",
   "metadata": {},
   "source": [
    "## Step 6: Analyze Results\n",
    "\n",
    "Find the lowest energy structure and determine its space group."
   ]
  },
  {
   "cell_type": "code",
   "execution_count": 8,
   "id": "c9d617c0",
   "metadata": {
    "execution": {
     "iopub.execute_input": "2025-10-15T06:44:12.128279Z",
     "iopub.status.busy": "2025-10-15T06:44:12.128026Z",
     "iopub.status.idle": "2025-10-15T06:44:12.230826Z",
     "shell.execute_reply": "2025-10-15T06:44:12.229935Z"
    }
   },
   "outputs": [
    {
     "name": "stdout",
     "output_type": "stream",
     "text": [
      "Space group of predicted crystallization product: P1\n",
      "Final energy: -18.5615 eV, Energy per atom: -4.6404 eV/atom\n",
      "Final pressure: -0.018813 eV/Å³\n",
      "All space groups encountered: {'P1': 25, 'P-1': 13, 'P2_1/m': 1}\n",
      "Prediction matches diamond-cubic Si? False\n",
      "Lowest energy structure saved to final_crystal_structure.cif\n"
     ]
    }
   ],
   "source": [
    "lowest_e_candidate = min(relaxed_atoms_list, key=lambda x: x[-2] / len(x[0]))\n",
    "lowest_e_atoms, lowest_e_logger, lowest_e_energy, lowest_e_pressure = lowest_e_candidate\n",
    "\n",
    "# Convert to pymatgen structure for space group analysis\n",
    "pymatgen_struct = Structure(\n",
    "    lattice=lowest_e_atoms.get_cell(),\n",
    "    species=lowest_e_atoms.get_chemical_symbols(),\n",
    "    coords=lowest_e_atoms.get_positions(),\n",
    "    coords_are_cartesian=True,\n",
    ")\n",
    "\n",
    "# Analyze space group\n",
    "spg = SpacegroupAnalyzer(pymatgen_struct)\n",
    "print(\"Space group of predicted crystallization product:\", spg.get_space_group_symbol())\n",
    "print(\n",
    "    f\"Final energy: {lowest_e_energy:.4f} eV, \"\n",
    "    f\"Energy per atom: {lowest_e_energy / len(lowest_e_atoms):.4f} eV/atom\"\n",
    ")\n",
    "print(f\"Final pressure: {lowest_e_pressure:.6f} eV/Å³\")\n",
    "\n",
    "# Count frequency of space groups across all candidates\n",
    "spg_counter = defaultdict(lambda: 0)\n",
    "\n",
    "for s in relaxed_atoms_list:\n",
    "    pymatgen_struct = Structure(\n",
    "        lattice=s[0].get_cell(),\n",
    "        species=s[0].get_chemical_symbols(),\n",
    "        coords=s[0].get_positions(),\n",
    "        coords_are_cartesian=True,\n",
    "    )\n",
    "    try:\n",
    "        sp = SpacegroupAnalyzer(pymatgen_struct).get_space_group_symbol()\n",
    "        spg_counter[sp] += 1\n",
    "    except TypeError:\n",
    "        continue\n",
    "\n",
    "\n",
    "print(\"All space groups encountered:\", dict(spg_counter))\n",
    "\n",
    "# Compare to reference diamond structure\n",
    "si_diamond = bulk(\"Si\", \"diamond\", a=5.43)\n",
    "pymatgen_ref_struct = Structure(\n",
    "    lattice=si_diamond.get_cell(),\n",
    "    species=si_diamond.get_chemical_symbols(),\n",
    "    coords=si_diamond.get_positions(),\n",
    "    coords_are_cartesian=True,\n",
    ")\n",
    "print(\n",
    "    \"Prediction matches diamond-cubic Si?\",\n",
    "    StructureMatcher().fit(pymatgen_struct, pymatgen_ref_struct),\n",
    ")\n",
    "\n",
    "# Save the lowest energy structure\n",
    "lowest_e_atoms.write(\"final_crystal_structure.cif\")\n",
    "print(\"Lowest energy structure saved to final_crystal_structure.cif\")"
   ]
  }
 ],
 "metadata": {
  "jupytext": {
   "cell_metadata_filter": "-all"
  },
  "kernelspec": {
   "display_name": "Python 3 (ipykernel)",
   "language": "python",
   "name": "python3"
  },
  "language_info": {
   "codemirror_mode": {
    "name": "ipython",
    "version": 3
   },
   "file_extension": ".py",
   "mimetype": "text/x-python",
   "name": "python",
   "nbconvert_exporter": "python",
   "pygments_lexer": "ipython3",
   "version": "3.10.18"
  }
 },
 "nbformat": 4,
 "nbformat_minor": 5
}
